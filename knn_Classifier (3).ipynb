{
  "nbformat": 4,
  "nbformat_minor": 0,
  "metadata": {
    "colab": {
      "name": "knn_Classifier.ipynb",
      "version": "0.3.2",
      "provenance": [],
      "collapsed_sections": [
        "rkfz1yx_cwro"
      ],
      "toc_visible": true
    },
    "kernelspec": {
      "display_name": "Python 3",
      "language": "python",
      "name": "python3"
    }
  },
  "cells": [
    {
      "metadata": {
        "id": "ATvkpW8oZW6d",
        "colab_type": "code",
        "colab": {
          "resources": {
            "http://localhost:8080/nbextensions/google.colab/files.js": {
              "data": "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",
              "ok": true,
              "headers": [
                [
                  "content-type",
                  "application/javascript"
                ]
              ],
              "status": 200,
              "status_text": ""
            }
          },
          "base_uri": "https://localhost:8080/",
          "height": 72
        },
        "outputId": "7dee5c99-704f-4f55-bee2-4d0f9c4253f2"
      },
      "cell_type": "code",
      "source": [
        "from google.colab import files\n",
        "uploads=files.upload()"
      ],
      "execution_count": 2,
      "outputs": [
        {
          "output_type": "display_data",
          "data": {
            "text/html": [
              "\n",
              "     <input type=\"file\" id=\"files-d1bf0ab7-a791-4b13-9541-cd44a4601a4f\" name=\"files[]\" multiple disabled />\n",
              "     <output id=\"result-d1bf0ab7-a791-4b13-9541-cd44a4601a4f\">\n",
              "      Upload widget is only available when the cell has been executed in the\n",
              "      current browser session. Please rerun this cell to enable.\n",
              "      </output>\n",
              "      <script src=\"/nbextensions/google.colab/files.js\"></script> "
            ],
            "text/plain": [
              "<IPython.core.display.HTML object>"
            ]
          },
          "metadata": {
            "tags": []
          }
        },
        {
          "output_type": "stream",
          "text": [
            "Saving kaggle.json to kaggle (2).json\n"
          ],
          "name": "stdout"
        }
      ]
    },
    {
      "metadata": {
        "id": "gd4y_MCQZaRt",
        "colab_type": "code",
        "colab": {
          "base_uri": "https://localhost:8080/",
          "height": 34
        },
        "outputId": "0f5247c6-28a1-490e-be97-981047d4e91f"
      },
      "cell_type": "code",
      "source": [
        "!ls -lha kaggle.json"
      ],
      "execution_count": 3,
      "outputs": [
        {
          "output_type": "stream",
          "text": [
            "-rw-r--r-- 1 root root 70 Oct 27 04:46 kaggle.json\n"
          ],
          "name": "stdout"
        }
      ]
    },
    {
      "metadata": {
        "id": "UHlp2DtNZapP",
        "colab_type": "code",
        "colab": {}
      },
      "cell_type": "code",
      "source": [
        "!mkdir -p ~/.kaggle\n",
        "!cp kaggle.json ~/.kaggle/"
      ],
      "execution_count": 0,
      "outputs": []
    },
    {
      "metadata": {
        "id": "HbMG5mX3ZbLw",
        "colab_type": "code",
        "colab": {}
      },
      "cell_type": "code",
      "source": [
        "!chmod 600 ~/.kaggle/kaggle.json"
      ],
      "execution_count": 0,
      "outputs": []
    },
    {
      "metadata": {
        "id": "vIH3EgbdZzKW",
        "colab_type": "code",
        "colab": {
          "base_uri": "https://localhost:8080/",
          "height": 224
        },
        "outputId": "0aed9f91-a7b5-44c2-9f27-51286d2df9a0"
      },
      "cell_type": "code",
      "source": [
        "!pip install kaggle"
      ],
      "execution_count": 6,
      "outputs": [
        {
          "output_type": "stream",
          "text": [
            "Requirement already satisfied: kaggle in /usr/local/lib/python3.6/dist-packages (1.5.0)\n",
            "Requirement already satisfied: certifi in /usr/local/lib/python3.6/dist-packages (from kaggle) (2018.10.15)\n",
            "Requirement already satisfied: python-dateutil in /usr/local/lib/python3.6/dist-packages (from kaggle) (2.5.3)\n",
            "Requirement already satisfied: requests in /usr/local/lib/python3.6/dist-packages (from kaggle) (2.18.4)\n",
            "Requirement already satisfied: urllib3<1.23.0,>=1.15 in /usr/local/lib/python3.6/dist-packages (from kaggle) (1.22)\n",
            "Requirement already satisfied: python-slugify in /usr/local/lib/python3.6/dist-packages (from kaggle) (1.2.6)\n",
            "Requirement already satisfied: six>=1.10 in /usr/local/lib/python3.6/dist-packages (from kaggle) (1.11.0)\n",
            "Requirement already satisfied: tqdm in /usr/local/lib/python3.6/dist-packages (from kaggle) (4.28.1)\n",
            "Requirement already satisfied: chardet<3.1.0,>=3.0.2 in /usr/local/lib/python3.6/dist-packages (from requests->kaggle) (3.0.4)\n",
            "Requirement already satisfied: idna<2.7,>=2.5 in /usr/local/lib/python3.6/dist-packages (from requests->kaggle) (2.6)\n",
            "Requirement already satisfied: Unidecode>=0.04.16 in /usr/local/lib/python3.6/dist-packages (from python-slugify->kaggle) (1.0.22)\n"
          ],
          "name": "stdout"
        }
      ]
    },
    {
      "metadata": {
        "id": "qVBg7SYHZ342",
        "colab_type": "code",
        "colab": {
          "base_uri": "https://localhost:8080/",
          "height": 34
        },
        "outputId": "ff2d4261-fdc6-4d6d-cfdb-50e69c889888"
      },
      "cell_type": "code",
      "source": [
        "!kaggle datasets download -d snap/amazon-fine-food-reviews\n",
        "#!kaggle competitions download -c tgs-salt-identification-challenge"
      ],
      "execution_count": 7,
      "outputs": [
        {
          "output_type": "stream",
          "text": [
            "amazon-fine-food-reviews.zip: Skipping, found more recently modified local copy (use --force to force download)\n"
          ],
          "name": "stdout"
        }
      ]
    },
    {
      "metadata": {
        "id": "k8fEZZLIaD3c",
        "colab_type": "code",
        "colab": {}
      },
      "cell_type": "code",
      "source": [
        "import zipfile\n",
        "zip_ref = zipfile.ZipFile(\"amazon-fine-food-reviews.zip\", 'r')\n",
        "zip_ref.extractall(\"amazon\")\n",
        "zip_ref.close()"
      ],
      "execution_count": 0,
      "outputs": []
    },
    {
      "metadata": {
        "id": "H_Dvz6TOaMX8",
        "colab_type": "code",
        "colab": {
          "base_uri": "https://localhost:8080/",
          "height": 343
        },
        "outputId": "37826360-e0d8-4849-c19c-822405f26357"
      },
      "cell_type": "code",
      "source": [
        "!pip install gensim"
      ],
      "execution_count": 9,
      "outputs": [
        {
          "output_type": "stream",
          "text": [
            "Requirement already satisfied: gensim in /usr/local/lib/python3.6/dist-packages (3.6.0)\n",
            "Requirement already satisfied: six>=1.5.0 in /usr/local/lib/python3.6/dist-packages (from gensim) (1.11.0)\n",
            "Requirement already satisfied: smart-open>=1.2.1 in /usr/local/lib/python3.6/dist-packages (from gensim) (1.7.1)\n",
            "Requirement already satisfied: numpy>=1.11.3 in /usr/local/lib/python3.6/dist-packages (from gensim) (1.14.6)\n",
            "Requirement already satisfied: scipy>=0.18.1 in /usr/local/lib/python3.6/dist-packages (from gensim) (0.19.1)\n",
            "Requirement already satisfied: bz2file in /usr/local/lib/python3.6/dist-packages (from smart-open>=1.2.1->gensim) (0.98)\n",
            "Requirement already satisfied: requests in /usr/local/lib/python3.6/dist-packages (from smart-open>=1.2.1->gensim) (2.18.4)\n",
            "Requirement already satisfied: boto3 in /usr/local/lib/python3.6/dist-packages (from smart-open>=1.2.1->gensim) (1.9.33)\n",
            "Requirement already satisfied: boto>=2.32 in /usr/local/lib/python3.6/dist-packages (from smart-open>=1.2.1->gensim) (2.49.0)\n",
            "Requirement already satisfied: urllib3<1.23,>=1.21.1 in /usr/local/lib/python3.6/dist-packages (from requests->smart-open>=1.2.1->gensim) (1.22)\n",
            "Requirement already satisfied: idna<2.7,>=2.5 in /usr/local/lib/python3.6/dist-packages (from requests->smart-open>=1.2.1->gensim) (2.6)\n",
            "Requirement already satisfied: certifi>=2017.4.17 in /usr/local/lib/python3.6/dist-packages (from requests->smart-open>=1.2.1->gensim) (2018.10.15)\n",
            "Requirement already satisfied: chardet<3.1.0,>=3.0.2 in /usr/local/lib/python3.6/dist-packages (from requests->smart-open>=1.2.1->gensim) (3.0.4)\n",
            "Requirement already satisfied: botocore<1.13.0,>=1.12.33 in /usr/local/lib/python3.6/dist-packages (from boto3->smart-open>=1.2.1->gensim) (1.12.33)\n",
            "Requirement already satisfied: jmespath<1.0.0,>=0.7.1 in /usr/local/lib/python3.6/dist-packages (from boto3->smart-open>=1.2.1->gensim) (0.9.3)\n",
            "Requirement already satisfied: s3transfer<0.2.0,>=0.1.10 in /usr/local/lib/python3.6/dist-packages (from boto3->smart-open>=1.2.1->gensim) (0.1.13)\n",
            "Requirement already satisfied: docutils>=0.10 in /usr/local/lib/python3.6/dist-packages (from botocore<1.13.0,>=1.12.33->boto3->smart-open>=1.2.1->gensim) (0.14)\n",
            "Requirement already satisfied: python-dateutil<3.0.0,>=2.1; python_version >= \"2.7\" in /usr/local/lib/python3.6/dist-packages (from botocore<1.13.0,>=1.12.33->boto3->smart-open>=1.2.1->gensim) (2.5.3)\n"
          ],
          "name": "stdout"
        }
      ]
    },
    {
      "metadata": {
        "_cell_guid": "79c7e3d0-c299-4dcb-8224-4455121ee9b0",
        "_uuid": "d629ff2d2480ee46fbb7e2d37f6b5fab8052498a",
        "trusted": true,
        "id": "CN22-HTYcwk-",
        "colab_type": "code",
        "colab": {}
      },
      "cell_type": "code",
      "source": [
        "%matplotlib inline\n",
        "import warnings\n",
        "warnings.filterwarnings(\"ignore\")\n",
        "\n",
        "import sqlite3\n",
        "\n",
        "import pandas as pd\n",
        "import numpy as np\n",
        "import nltk\n",
        "import string\n",
        "import matplotlib.pyplot as plt\n",
        "import seaborn as sns\n",
        "from sklearn.feature_extraction.text import TfidfTransformer\n",
        "from sklearn.feature_extraction.text import TfidfVectorizer\n",
        "\n",
        "from sklearn.feature_extraction.text import CountVectorizer\n",
        "from sklearn.metrics import confusion_matrix\n",
        "from sklearn import metrics\n",
        "from sklearn.metrics import roc_curve, auc\n",
        "from nltk.stem.porter import PorterStemmer\n",
        "\n",
        "import re\n",
        "# Tutorial about Python regular expressions: https://pymotw.com/2/re/\n",
        "import string\n",
        "from nltk.corpus import stopwords\n",
        "from nltk.stem import PorterStemmer\n",
        "from nltk.stem.wordnet import WordNetLemmatizer\n",
        "\n",
        "from gensim.models import Word2Vec\n",
        "from gensim.models import KeyedVectors\n",
        "import pickle\n",
        "\n"
      ],
      "execution_count": 0,
      "outputs": []
    },
    {
      "metadata": {
        "trusted": true,
        "_uuid": "069721cce010b31ed3410ec1061e08a2baa3906b",
        "id": "f3eFV9DscwlM",
        "colab_type": "code",
        "colab": {}
      },
      "cell_type": "code",
      "source": [
        "con = sqlite3.connect('./amazon/database.sqlite') "
      ],
      "execution_count": 0,
      "outputs": []
    },
    {
      "metadata": {
        "trusted": true,
        "_uuid": "9fd46e49cd17c2b5eb0df783fc52a49a59cd9f49",
        "id": "YTZhhL8_cwlZ",
        "colab_type": "code",
        "colab": {}
      },
      "cell_type": "code",
      "source": [
        "filtered_data = pd.read_sql_query(\"\"\" SELECT * FROM Reviews WHERE Score != 3 \"\"\", con)"
      ],
      "execution_count": 0,
      "outputs": []
    },
    {
      "metadata": {
        "trusted": true,
        "_uuid": "78a907ae37d8aaf1516c90a8d39daf8cf4381785",
        "id": "1r0ngYS2cwln",
        "colab_type": "code",
        "colab": {}
      },
      "cell_type": "code",
      "source": [
        "def partition(x):\n",
        "    if x < 3:\n",
        "        return 'negative'\n",
        "    return 'positive'"
      ],
      "execution_count": 0,
      "outputs": []
    },
    {
      "metadata": {
        "trusted": true,
        "_uuid": "7f0330ab0d94edeeae7bde788073c813ead31cb3",
        "id": "doOggJU_cwl1",
        "colab_type": "code",
        "colab": {}
      },
      "cell_type": "code",
      "source": [
        "actualScore = filtered_data['Score']\n",
        "positiveNegative = actualScore.map(partition) \n",
        "filtered_data['Score'] = positiveNegative"
      ],
      "execution_count": 0,
      "outputs": []
    },
    {
      "metadata": {
        "trusted": true,
        "_uuid": "fcf0b8b195a161f6b210b8acefcbc1c5b071bcff",
        "id": "Ipamdxk0cwmC",
        "colab_type": "code",
        "colab": {
          "base_uri": "https://localhost:8080/",
          "height": 700
        },
        "outputId": "891318bb-8129-4baa-fdd8-47d0a8859458"
      },
      "cell_type": "code",
      "source": [
        "print(filtered_data.shape) #looking at the number of attributes and size of the data\n",
        "filtered_data.head()"
      ],
      "execution_count": 15,
      "outputs": [
        {
          "output_type": "stream",
          "text": [
            "(525814, 10)\n"
          ],
          "name": "stdout"
        },
        {
          "output_type": "execute_result",
          "data": {
            "text/html": [
              "<div>\n",
              "<style scoped>\n",
              "    .dataframe tbody tr th:only-of-type {\n",
              "        vertical-align: middle;\n",
              "    }\n",
              "\n",
              "    .dataframe tbody tr th {\n",
              "        vertical-align: top;\n",
              "    }\n",
              "\n",
              "    .dataframe thead th {\n",
              "        text-align: right;\n",
              "    }\n",
              "</style>\n",
              "<table border=\"1\" class=\"dataframe\">\n",
              "  <thead>\n",
              "    <tr style=\"text-align: right;\">\n",
              "      <th></th>\n",
              "      <th>Id</th>\n",
              "      <th>ProductId</th>\n",
              "      <th>UserId</th>\n",
              "      <th>ProfileName</th>\n",
              "      <th>HelpfulnessNumerator</th>\n",
              "      <th>HelpfulnessDenominator</th>\n",
              "      <th>Score</th>\n",
              "      <th>Time</th>\n",
              "      <th>Summary</th>\n",
              "      <th>Text</th>\n",
              "    </tr>\n",
              "  </thead>\n",
              "  <tbody>\n",
              "    <tr>\n",
              "      <th>0</th>\n",
              "      <td>1</td>\n",
              "      <td>B001E4KFG0</td>\n",
              "      <td>A3SGXH7AUHU8GW</td>\n",
              "      <td>delmartian</td>\n",
              "      <td>1</td>\n",
              "      <td>1</td>\n",
              "      <td>positive</td>\n",
              "      <td>1303862400</td>\n",
              "      <td>Good Quality Dog Food</td>\n",
              "      <td>I have bought several of the Vitality canned d...</td>\n",
              "    </tr>\n",
              "    <tr>\n",
              "      <th>1</th>\n",
              "      <td>2</td>\n",
              "      <td>B00813GRG4</td>\n",
              "      <td>A1D87F6ZCVE5NK</td>\n",
              "      <td>dll pa</td>\n",
              "      <td>0</td>\n",
              "      <td>0</td>\n",
              "      <td>negative</td>\n",
              "      <td>1346976000</td>\n",
              "      <td>Not as Advertised</td>\n",
              "      <td>Product arrived labeled as Jumbo Salted Peanut...</td>\n",
              "    </tr>\n",
              "    <tr>\n",
              "      <th>2</th>\n",
              "      <td>3</td>\n",
              "      <td>B000LQOCH0</td>\n",
              "      <td>ABXLMWJIXXAIN</td>\n",
              "      <td>Natalia Corres \"Natalia Corres\"</td>\n",
              "      <td>1</td>\n",
              "      <td>1</td>\n",
              "      <td>positive</td>\n",
              "      <td>1219017600</td>\n",
              "      <td>\"Delight\" says it all</td>\n",
              "      <td>This is a confection that has been around a fe...</td>\n",
              "    </tr>\n",
              "    <tr>\n",
              "      <th>3</th>\n",
              "      <td>4</td>\n",
              "      <td>B000UA0QIQ</td>\n",
              "      <td>A395BORC6FGVXV</td>\n",
              "      <td>Karl</td>\n",
              "      <td>3</td>\n",
              "      <td>3</td>\n",
              "      <td>negative</td>\n",
              "      <td>1307923200</td>\n",
              "      <td>Cough Medicine</td>\n",
              "      <td>If you are looking for the secret ingredient i...</td>\n",
              "    </tr>\n",
              "    <tr>\n",
              "      <th>4</th>\n",
              "      <td>5</td>\n",
              "      <td>B006K2ZZ7K</td>\n",
              "      <td>A1UQRSCLF8GW1T</td>\n",
              "      <td>Michael D. Bigham \"M. Wassir\"</td>\n",
              "      <td>0</td>\n",
              "      <td>0</td>\n",
              "      <td>positive</td>\n",
              "      <td>1350777600</td>\n",
              "      <td>Great taffy</td>\n",
              "      <td>Great taffy at a great price.  There was a wid...</td>\n",
              "    </tr>\n",
              "  </tbody>\n",
              "</table>\n",
              "</div>"
            ],
            "text/plain": [
              "   Id   ProductId          UserId                      ProfileName  \\\n",
              "0   1  B001E4KFG0  A3SGXH7AUHU8GW                       delmartian   \n",
              "1   2  B00813GRG4  A1D87F6ZCVE5NK                           dll pa   \n",
              "2   3  B000LQOCH0   ABXLMWJIXXAIN  Natalia Corres \"Natalia Corres\"   \n",
              "3   4  B000UA0QIQ  A395BORC6FGVXV                             Karl   \n",
              "4   5  B006K2ZZ7K  A1UQRSCLF8GW1T    Michael D. Bigham \"M. Wassir\"   \n",
              "\n",
              "   HelpfulnessNumerator  HelpfulnessDenominator     Score        Time  \\\n",
              "0                     1                       1  positive  1303862400   \n",
              "1                     0                       0  negative  1346976000   \n",
              "2                     1                       1  positive  1219017600   \n",
              "3                     3                       3  negative  1307923200   \n",
              "4                     0                       0  positive  1350777600   \n",
              "\n",
              "                 Summary                                               Text  \n",
              "0  Good Quality Dog Food  I have bought several of the Vitality canned d...  \n",
              "1      Not as Advertised  Product arrived labeled as Jumbo Salted Peanut...  \n",
              "2  \"Delight\" says it all  This is a confection that has been around a fe...  \n",
              "3         Cough Medicine  If you are looking for the secret ingredient i...  \n",
              "4            Great taffy  Great taffy at a great price.  There was a wid...  "
            ]
          },
          "metadata": {
            "tags": []
          },
          "execution_count": 15
        }
      ]
    },
    {
      "metadata": {
        "trusted": true,
        "_uuid": "87b7bc3b116ca135c26adebdd5a4f7d7ccfb41f2",
        "id": "fIPIT1PScwmi",
        "colab_type": "code",
        "colab": {
          "base_uri": "https://localhost:8080/",
          "height": 564
        },
        "outputId": "9fb0fc0c-05e2-4580-a843-6a29eb074e8f"
      },
      "cell_type": "code",
      "source": [
        "display= pd.read_sql_query(\"\"\"\n",
        "SELECT *\n",
        "FROM Reviews\n",
        "WHERE Score != 3 AND UserId=\"AR5J8UI46CURR\"\n",
        "ORDER BY ProductID\n",
        "\"\"\", con)\n",
        "display.head()"
      ],
      "execution_count": 16,
      "outputs": [
        {
          "output_type": "execute_result",
          "data": {
            "text/html": [
              "<div>\n",
              "<style scoped>\n",
              "    .dataframe tbody tr th:only-of-type {\n",
              "        vertical-align: middle;\n",
              "    }\n",
              "\n",
              "    .dataframe tbody tr th {\n",
              "        vertical-align: top;\n",
              "    }\n",
              "\n",
              "    .dataframe thead th {\n",
              "        text-align: right;\n",
              "    }\n",
              "</style>\n",
              "<table border=\"1\" class=\"dataframe\">\n",
              "  <thead>\n",
              "    <tr style=\"text-align: right;\">\n",
              "      <th></th>\n",
              "      <th>Id</th>\n",
              "      <th>ProductId</th>\n",
              "      <th>UserId</th>\n",
              "      <th>ProfileName</th>\n",
              "      <th>HelpfulnessNumerator</th>\n",
              "      <th>HelpfulnessDenominator</th>\n",
              "      <th>Score</th>\n",
              "      <th>Time</th>\n",
              "      <th>Summary</th>\n",
              "      <th>Text</th>\n",
              "    </tr>\n",
              "  </thead>\n",
              "  <tbody>\n",
              "    <tr>\n",
              "      <th>0</th>\n",
              "      <td>78445</td>\n",
              "      <td>B000HDL1RQ</td>\n",
              "      <td>AR5J8UI46CURR</td>\n",
              "      <td>Geetha Krishnan</td>\n",
              "      <td>2</td>\n",
              "      <td>2</td>\n",
              "      <td>5</td>\n",
              "      <td>1199577600</td>\n",
              "      <td>LOACKER QUADRATINI VANILLA WAFERS</td>\n",
              "      <td>DELICIOUS WAFERS. I FIND THAT EUROPEAN WAFERS ...</td>\n",
              "    </tr>\n",
              "    <tr>\n",
              "      <th>1</th>\n",
              "      <td>138317</td>\n",
              "      <td>B000HDOPYC</td>\n",
              "      <td>AR5J8UI46CURR</td>\n",
              "      <td>Geetha Krishnan</td>\n",
              "      <td>2</td>\n",
              "      <td>2</td>\n",
              "      <td>5</td>\n",
              "      <td>1199577600</td>\n",
              "      <td>LOACKER QUADRATINI VANILLA WAFERS</td>\n",
              "      <td>DELICIOUS WAFERS. I FIND THAT EUROPEAN WAFERS ...</td>\n",
              "    </tr>\n",
              "    <tr>\n",
              "      <th>2</th>\n",
              "      <td>138277</td>\n",
              "      <td>B000HDOPYM</td>\n",
              "      <td>AR5J8UI46CURR</td>\n",
              "      <td>Geetha Krishnan</td>\n",
              "      <td>2</td>\n",
              "      <td>2</td>\n",
              "      <td>5</td>\n",
              "      <td>1199577600</td>\n",
              "      <td>LOACKER QUADRATINI VANILLA WAFERS</td>\n",
              "      <td>DELICIOUS WAFERS. I FIND THAT EUROPEAN WAFERS ...</td>\n",
              "    </tr>\n",
              "    <tr>\n",
              "      <th>3</th>\n",
              "      <td>73791</td>\n",
              "      <td>B000HDOPZG</td>\n",
              "      <td>AR5J8UI46CURR</td>\n",
              "      <td>Geetha Krishnan</td>\n",
              "      <td>2</td>\n",
              "      <td>2</td>\n",
              "      <td>5</td>\n",
              "      <td>1199577600</td>\n",
              "      <td>LOACKER QUADRATINI VANILLA WAFERS</td>\n",
              "      <td>DELICIOUS WAFERS. I FIND THAT EUROPEAN WAFERS ...</td>\n",
              "    </tr>\n",
              "    <tr>\n",
              "      <th>4</th>\n",
              "      <td>155049</td>\n",
              "      <td>B000PAQ75C</td>\n",
              "      <td>AR5J8UI46CURR</td>\n",
              "      <td>Geetha Krishnan</td>\n",
              "      <td>2</td>\n",
              "      <td>2</td>\n",
              "      <td>5</td>\n",
              "      <td>1199577600</td>\n",
              "      <td>LOACKER QUADRATINI VANILLA WAFERS</td>\n",
              "      <td>DELICIOUS WAFERS. I FIND THAT EUROPEAN WAFERS ...</td>\n",
              "    </tr>\n",
              "  </tbody>\n",
              "</table>\n",
              "</div>"
            ],
            "text/plain": [
              "       Id   ProductId         UserId      ProfileName  HelpfulnessNumerator  \\\n",
              "0   78445  B000HDL1RQ  AR5J8UI46CURR  Geetha Krishnan                     2   \n",
              "1  138317  B000HDOPYC  AR5J8UI46CURR  Geetha Krishnan                     2   \n",
              "2  138277  B000HDOPYM  AR5J8UI46CURR  Geetha Krishnan                     2   \n",
              "3   73791  B000HDOPZG  AR5J8UI46CURR  Geetha Krishnan                     2   \n",
              "4  155049  B000PAQ75C  AR5J8UI46CURR  Geetha Krishnan                     2   \n",
              "\n",
              "   HelpfulnessDenominator  Score        Time  \\\n",
              "0                       2      5  1199577600   \n",
              "1                       2      5  1199577600   \n",
              "2                       2      5  1199577600   \n",
              "3                       2      5  1199577600   \n",
              "4                       2      5  1199577600   \n",
              "\n",
              "                             Summary  \\\n",
              "0  LOACKER QUADRATINI VANILLA WAFERS   \n",
              "1  LOACKER QUADRATINI VANILLA WAFERS   \n",
              "2  LOACKER QUADRATINI VANILLA WAFERS   \n",
              "3  LOACKER QUADRATINI VANILLA WAFERS   \n",
              "4  LOACKER QUADRATINI VANILLA WAFERS   \n",
              "\n",
              "                                                Text  \n",
              "0  DELICIOUS WAFERS. I FIND THAT EUROPEAN WAFERS ...  \n",
              "1  DELICIOUS WAFERS. I FIND THAT EUROPEAN WAFERS ...  \n",
              "2  DELICIOUS WAFERS. I FIND THAT EUROPEAN WAFERS ...  \n",
              "3  DELICIOUS WAFERS. I FIND THAT EUROPEAN WAFERS ...  \n",
              "4  DELICIOUS WAFERS. I FIND THAT EUROPEAN WAFERS ...  "
            ]
          },
          "metadata": {
            "tags": []
          },
          "execution_count": 16
        }
      ]
    },
    {
      "metadata": {
        "trusted": true,
        "_uuid": "fcc5ff0757be963e7a750ae69fed572f5d5637e1",
        "id": "KabGEzzBcwm5",
        "colab_type": "code",
        "colab": {}
      },
      "cell_type": "code",
      "source": [
        "sorted_data=filtered_data.sort_values('ProductId', axis=0, ascending=True, inplace=False, kind='quicksort', na_position='last')"
      ],
      "execution_count": 0,
      "outputs": []
    },
    {
      "metadata": {
        "trusted": true,
        "_uuid": "788dbba35e28781fc3a88b97fb1e55577b864c2a",
        "id": "3gb9LdY9cwnO",
        "colab_type": "code",
        "colab": {
          "base_uri": "https://localhost:8080/",
          "height": 34
        },
        "outputId": "97fcb613-ff47-442f-8141-8563f9535898"
      },
      "cell_type": "code",
      "source": [
        "final=sorted_data.drop_duplicates(subset={\"UserId\",\"ProfileName\",\"Time\",\"Text\"}, keep='first', inplace=False)\n",
        "final.shape"
      ],
      "execution_count": 18,
      "outputs": [
        {
          "output_type": "execute_result",
          "data": {
            "text/plain": [
              "(364173, 10)"
            ]
          },
          "metadata": {
            "tags": []
          },
          "execution_count": 18
        }
      ]
    },
    {
      "metadata": {
        "trusted": true,
        "_uuid": "0ffa4c7edb426737ebab6699832d4a8aa4db86f6",
        "id": "0O6O4UHLcwnr",
        "colab_type": "code",
        "colab": {
          "base_uri": "https://localhost:8080/",
          "height": 34
        },
        "outputId": "22f8cc96-d544-431e-8117-a32805a108d3"
      },
      "cell_type": "code",
      "source": [
        "(final['Id'].size*1.0)/(filtered_data['Id'].size*1.0)*100"
      ],
      "execution_count": 19,
      "outputs": [
        {
          "output_type": "execute_result",
          "data": {
            "text/plain": [
              "69.25890143662969"
            ]
          },
          "metadata": {
            "tags": []
          },
          "execution_count": 19
        }
      ]
    },
    {
      "metadata": {
        "trusted": true,
        "_uuid": "dba635be5a4498c7a5ae95e84debfda9e1e87184",
        "id": "sL4G8f_IcwoS",
        "colab_type": "code",
        "colab": {
          "base_uri": "https://localhost:8080/",
          "height": 335
        },
        "outputId": "05cf286b-139f-4651-f11b-cd895ac65906"
      },
      "cell_type": "code",
      "source": [
        "display= pd.read_sql_query(\"\"\"\n",
        "SELECT *\n",
        "FROM Reviews\n",
        "WHERE Score != 3 AND Id=44737 OR Id=64422\n",
        "ORDER BY ProductID\n",
        "\"\"\", con)\n",
        "\n",
        "display.head()"
      ],
      "execution_count": 20,
      "outputs": [
        {
          "output_type": "execute_result",
          "data": {
            "text/html": [
              "<div>\n",
              "<style scoped>\n",
              "    .dataframe tbody tr th:only-of-type {\n",
              "        vertical-align: middle;\n",
              "    }\n",
              "\n",
              "    .dataframe tbody tr th {\n",
              "        vertical-align: top;\n",
              "    }\n",
              "\n",
              "    .dataframe thead th {\n",
              "        text-align: right;\n",
              "    }\n",
              "</style>\n",
              "<table border=\"1\" class=\"dataframe\">\n",
              "  <thead>\n",
              "    <tr style=\"text-align: right;\">\n",
              "      <th></th>\n",
              "      <th>Id</th>\n",
              "      <th>ProductId</th>\n",
              "      <th>UserId</th>\n",
              "      <th>ProfileName</th>\n",
              "      <th>HelpfulnessNumerator</th>\n",
              "      <th>HelpfulnessDenominator</th>\n",
              "      <th>Score</th>\n",
              "      <th>Time</th>\n",
              "      <th>Summary</th>\n",
              "      <th>Text</th>\n",
              "    </tr>\n",
              "  </thead>\n",
              "  <tbody>\n",
              "    <tr>\n",
              "      <th>0</th>\n",
              "      <td>64422</td>\n",
              "      <td>B000MIDROQ</td>\n",
              "      <td>A161DK06JJMCYF</td>\n",
              "      <td>J. E. Stephens \"Jeanne\"</td>\n",
              "      <td>3</td>\n",
              "      <td>1</td>\n",
              "      <td>5</td>\n",
              "      <td>1224892800</td>\n",
              "      <td>Bought This for My Son at College</td>\n",
              "      <td>My son loves spaghetti so I didn't hesitate or...</td>\n",
              "    </tr>\n",
              "    <tr>\n",
              "      <th>1</th>\n",
              "      <td>44737</td>\n",
              "      <td>B001EQ55RW</td>\n",
              "      <td>A2V0I904FH7ABY</td>\n",
              "      <td>Ram</td>\n",
              "      <td>3</td>\n",
              "      <td>2</td>\n",
              "      <td>4</td>\n",
              "      <td>1212883200</td>\n",
              "      <td>Pure cocoa taste with crunchy almonds inside</td>\n",
              "      <td>It was almost a 'love at first bite' - the per...</td>\n",
              "    </tr>\n",
              "  </tbody>\n",
              "</table>\n",
              "</div>"
            ],
            "text/plain": [
              "      Id   ProductId          UserId              ProfileName  \\\n",
              "0  64422  B000MIDROQ  A161DK06JJMCYF  J. E. Stephens \"Jeanne\"   \n",
              "1  44737  B001EQ55RW  A2V0I904FH7ABY                      Ram   \n",
              "\n",
              "   HelpfulnessNumerator  HelpfulnessDenominator  Score        Time  \\\n",
              "0                     3                       1      5  1224892800   \n",
              "1                     3                       2      4  1212883200   \n",
              "\n",
              "                                        Summary  \\\n",
              "0             Bought This for My Son at College   \n",
              "1  Pure cocoa taste with crunchy almonds inside   \n",
              "\n",
              "                                                Text  \n",
              "0  My son loves spaghetti so I didn't hesitate or...  \n",
              "1  It was almost a 'love at first bite' - the per...  "
            ]
          },
          "metadata": {
            "tags": []
          },
          "execution_count": 20
        }
      ]
    },
    {
      "metadata": {
        "trusted": true,
        "_uuid": "e2ee24362b2a6e545e6eec6029308cae44e5476a",
        "id": "wMBVHImNcwop",
        "colab_type": "code",
        "colab": {
          "base_uri": "https://localhost:8080/",
          "height": 68
        },
        "outputId": "30b04625-6abe-418a-9e76-407425322e86"
      },
      "cell_type": "code",
      "source": [
        "\n",
        "final['Score'].value_counts()"
      ],
      "execution_count": 21,
      "outputs": [
        {
          "output_type": "execute_result",
          "data": {
            "text/plain": [
              "positive    307063\n",
              "negative     57110\n",
              "Name: Score, dtype: int64"
            ]
          },
          "metadata": {
            "tags": []
          },
          "execution_count": 21
        }
      ]
    },
    {
      "metadata": {
        "id": "yCIOM-NLay-J",
        "colab_type": "code",
        "colab": {
          "base_uri": "https://localhost:8080/",
          "height": 68
        },
        "outputId": "061cff8a-77ce-48e4-aae0-0b5695c8c3b7"
      },
      "cell_type": "code",
      "source": [
        "nltk.download('stopwords')"
      ],
      "execution_count": 22,
      "outputs": [
        {
          "output_type": "stream",
          "text": [
            "[nltk_data] Downloading package stopwords to /root/nltk_data...\n",
            "[nltk_data]   Package stopwords is already up-to-date!\n"
          ],
          "name": "stdout"
        },
        {
          "output_type": "execute_result",
          "data": {
            "text/plain": [
              "True"
            ]
          },
          "metadata": {
            "tags": []
          },
          "execution_count": 22
        }
      ]
    },
    {
      "metadata": {
        "trusted": true,
        "_uuid": "809f7b422cd843ee3c23d85f63408163b12c10d8",
        "id": "4TcOh27tcwo2",
        "colab_type": "code",
        "colab": {}
      },
      "cell_type": "code",
      "source": [
        "\n",
        "stop = set(stopwords.words('english'))\n",
        "sno = nltk.stem.SnowballStemmer('english')\n",
        "\n",
        "def cleanhtml(sentence): \n",
        "    cleanr = re.compile('<.*?>')\n",
        "    cleantext = re.sub(cleanr, ' ', sentence)\n",
        "    return cleantext\n",
        "def cleanpunc(sentence):\n",
        "    cleaned = re.sub(r'[?|!|\\'|\"|#]',r'',sentence)\n",
        "    cleaned = re.sub(r'[.|,|)|(|\\|/]',r' ',cleaned)\n",
        "    return  cleaned\n"
      ],
      "execution_count": 0,
      "outputs": []
    },
    {
      "metadata": {
        "trusted": true,
        "_uuid": "f7f3561577288e258a3ff4ef763a9bd69a2bf067",
        "id": "sr_sYi_ncwpA",
        "colab_type": "code",
        "colab": {}
      },
      "cell_type": "code",
      "source": [
        "i=0\n",
        "str1=' '\n",
        "final_string=[]\n",
        "all_positive_words=[] # store words from +ve reviews here\n",
        "all_negative_words=[] # store words from -ve reviews here.\n",
        "s=''\n",
        "for sent in final['Text'].values:\n",
        "    filtered_sentence=[]\n",
        "    #print(sent);\n",
        "    sent=cleanhtml(sent) # remove HTMl tags\n",
        "    for w in sent.split():\n",
        "        for cleaned_words in cleanpunc(w).split():\n",
        "            if((cleaned_words.isalpha()) & (len(cleaned_words)>2)):    \n",
        "                if(cleaned_words.lower() not in stop):\n",
        "                    s=(sno.stem(cleaned_words.lower())).encode('utf8')\n",
        "                    filtered_sentence.append(s)\n",
        "                    if (final['Score'].values)[i] == 'positive': \n",
        "                        all_positive_words.append(s) \n",
        "                    if(final['Score'].values)[i] == 'negative':\n",
        "                        all_negative_words.append(s) \n",
        "                else:\n",
        "                    continue\n",
        "            else:\n",
        "                continue \n",
        "    #print(filtered_sentence)\n",
        "    str1 = b\" \".join(filtered_sentence)\n",
        "    \n",
        "    \n",
        "    final_string.append(str1)\n",
        "    i+=1"
      ],
      "execution_count": 0,
      "outputs": []
    },
    {
      "metadata": {
        "trusted": true,
        "_uuid": "e9dcb9ecb3a841b279876648d70f56f7028a3623",
        "id": "Rf_vSJZWcwpO",
        "colab_type": "code",
        "colab": {}
      },
      "cell_type": "code",
      "source": [
        "final['CleanedText']=final_string \n",
        "final['CleanedText']=final['CleanedText'].str.decode(\"utf-8\")"
      ],
      "execution_count": 0,
      "outputs": []
    },
    {
      "metadata": {
        "trusted": true,
        "_uuid": "12dd8eedf83f5d0ebdacbf56e5b1042237e8fd59",
        "id": "BhorRO6WcwpY",
        "colab_type": "code",
        "colab": {
          "base_uri": "https://localhost:8080/",
          "height": 768
        },
        "outputId": "e8dc6fe7-ce18-40ad-e124-edd4a77270cd"
      },
      "cell_type": "code",
      "source": [
        "final.head()"
      ],
      "execution_count": 26,
      "outputs": [
        {
          "output_type": "execute_result",
          "data": {
            "text/html": [
              "<div>\n",
              "<style scoped>\n",
              "    .dataframe tbody tr th:only-of-type {\n",
              "        vertical-align: middle;\n",
              "    }\n",
              "\n",
              "    .dataframe tbody tr th {\n",
              "        vertical-align: top;\n",
              "    }\n",
              "\n",
              "    .dataframe thead th {\n",
              "        text-align: right;\n",
              "    }\n",
              "</style>\n",
              "<table border=\"1\" class=\"dataframe\">\n",
              "  <thead>\n",
              "    <tr style=\"text-align: right;\">\n",
              "      <th></th>\n",
              "      <th>Id</th>\n",
              "      <th>ProductId</th>\n",
              "      <th>UserId</th>\n",
              "      <th>ProfileName</th>\n",
              "      <th>HelpfulnessNumerator</th>\n",
              "      <th>HelpfulnessDenominator</th>\n",
              "      <th>Score</th>\n",
              "      <th>Time</th>\n",
              "      <th>Summary</th>\n",
              "      <th>Text</th>\n",
              "      <th>CleanedText</th>\n",
              "    </tr>\n",
              "  </thead>\n",
              "  <tbody>\n",
              "    <tr>\n",
              "      <th>138706</th>\n",
              "      <td>150524</td>\n",
              "      <td>0006641040</td>\n",
              "      <td>ACITT7DI6IDDL</td>\n",
              "      <td>shari zychinski</td>\n",
              "      <td>0</td>\n",
              "      <td>0</td>\n",
              "      <td>positive</td>\n",
              "      <td>939340800</td>\n",
              "      <td>EVERY book is educational</td>\n",
              "      <td>this witty little book makes my son laugh at l...</td>\n",
              "      <td>witti littl book make son laugh loud recit car...</td>\n",
              "    </tr>\n",
              "    <tr>\n",
              "      <th>138688</th>\n",
              "      <td>150506</td>\n",
              "      <td>0006641040</td>\n",
              "      <td>A2IW4PEEKO2R0U</td>\n",
              "      <td>Tracy</td>\n",
              "      <td>1</td>\n",
              "      <td>1</td>\n",
              "      <td>positive</td>\n",
              "      <td>1194739200</td>\n",
              "      <td>Love the book, miss the hard cover version</td>\n",
              "      <td>I grew up reading these Sendak books, and watc...</td>\n",
              "      <td>grew read sendak book watch realli rosi movi i...</td>\n",
              "    </tr>\n",
              "    <tr>\n",
              "      <th>138689</th>\n",
              "      <td>150507</td>\n",
              "      <td>0006641040</td>\n",
              "      <td>A1S4A3IQ2MU7V4</td>\n",
              "      <td>sally sue \"sally sue\"</td>\n",
              "      <td>1</td>\n",
              "      <td>1</td>\n",
              "      <td>positive</td>\n",
              "      <td>1191456000</td>\n",
              "      <td>chicken soup with rice months</td>\n",
              "      <td>This is a fun way for children to learn their ...</td>\n",
              "      <td>fun way children learn month year learn poem t...</td>\n",
              "    </tr>\n",
              "    <tr>\n",
              "      <th>138690</th>\n",
              "      <td>150508</td>\n",
              "      <td>0006641040</td>\n",
              "      <td>AZGXZ2UUK6X</td>\n",
              "      <td>Catherine Hallberg \"(Kate)\"</td>\n",
              "      <td>1</td>\n",
              "      <td>1</td>\n",
              "      <td>positive</td>\n",
              "      <td>1076025600</td>\n",
              "      <td>a good swingy rhythm for reading aloud</td>\n",
              "      <td>This is a great little book to read aloud- it ...</td>\n",
              "      <td>great littl book read nice rhythm well good re...</td>\n",
              "    </tr>\n",
              "    <tr>\n",
              "      <th>138691</th>\n",
              "      <td>150509</td>\n",
              "      <td>0006641040</td>\n",
              "      <td>A3CMRKGE0P909G</td>\n",
              "      <td>Teresa</td>\n",
              "      <td>3</td>\n",
              "      <td>4</td>\n",
              "      <td>positive</td>\n",
              "      <td>1018396800</td>\n",
              "      <td>A great way to learn the months</td>\n",
              "      <td>This is a book of poetry about the months of t...</td>\n",
              "      <td>book poetri month year goe month cute littl po...</td>\n",
              "    </tr>\n",
              "  </tbody>\n",
              "</table>\n",
              "</div>"
            ],
            "text/plain": [
              "            Id   ProductId          UserId                  ProfileName  \\\n",
              "138706  150524  0006641040   ACITT7DI6IDDL              shari zychinski   \n",
              "138688  150506  0006641040  A2IW4PEEKO2R0U                        Tracy   \n",
              "138689  150507  0006641040  A1S4A3IQ2MU7V4        sally sue \"sally sue\"   \n",
              "138690  150508  0006641040     AZGXZ2UUK6X  Catherine Hallberg \"(Kate)\"   \n",
              "138691  150509  0006641040  A3CMRKGE0P909G                       Teresa   \n",
              "\n",
              "        HelpfulnessNumerator  HelpfulnessDenominator     Score        Time  \\\n",
              "138706                     0                       0  positive   939340800   \n",
              "138688                     1                       1  positive  1194739200   \n",
              "138689                     1                       1  positive  1191456000   \n",
              "138690                     1                       1  positive  1076025600   \n",
              "138691                     3                       4  positive  1018396800   \n",
              "\n",
              "                                           Summary  \\\n",
              "138706                   EVERY book is educational   \n",
              "138688  Love the book, miss the hard cover version   \n",
              "138689               chicken soup with rice months   \n",
              "138690      a good swingy rhythm for reading aloud   \n",
              "138691             A great way to learn the months   \n",
              "\n",
              "                                                     Text  \\\n",
              "138706  this witty little book makes my son laugh at l...   \n",
              "138688  I grew up reading these Sendak books, and watc...   \n",
              "138689  This is a fun way for children to learn their ...   \n",
              "138690  This is a great little book to read aloud- it ...   \n",
              "138691  This is a book of poetry about the months of t...   \n",
              "\n",
              "                                              CleanedText  \n",
              "138706  witti littl book make son laugh loud recit car...  \n",
              "138688  grew read sendak book watch realli rosi movi i...  \n",
              "138689  fun way children learn month year learn poem t...  \n",
              "138690  great littl book read nice rhythm well good re...  \n",
              "138691  book poetri month year goe month cute littl po...  "
            ]
          },
          "metadata": {
            "tags": []
          },
          "execution_count": 26
        }
      ]
    },
    {
      "metadata": {
        "trusted": true,
        "_uuid": "b64d40199ce25b63b221bda424fc155f967ab63c",
        "id": "4Nz7BFsvcwpm",
        "colab_type": "code",
        "colab": {}
      },
      "cell_type": "code",
      "source": [
        "final_data=final.head(100000)"
      ],
      "execution_count": 0,
      "outputs": []
    },
    {
      "metadata": {
        "trusted": true,
        "_uuid": "3de34285c2f19f8c0fa44bfbea4762609a7f6b91",
        "id": "f5QBaF4Jcwpv",
        "colab_type": "code",
        "colab": {}
      },
      "cell_type": "code",
      "source": [
        "train_data=final_data.head(60000)\n",
        "cv_data=final_data[60000:80000]\n",
        "test_data=final_data[80000:100000]"
      ],
      "execution_count": 0,
      "outputs": []
    },
    {
      "metadata": {
        "id": "nTzR7NllaRQt",
        "colab_type": "text"
      },
      "cell_type": "markdown",
      "source": [
        "# Bag of words"
      ]
    },
    {
      "metadata": {
        "trusted": true,
        "_uuid": "07a3139464891c65c2dbc1c51093799ca48af75f",
        "id": "Xecyvojacwp8",
        "colab_type": "code",
        "colab": {
          "base_uri": "https://localhost:8080/",
          "height": 68
        },
        "outputId": "dba43bd7-3782-4bd0-971a-eb69698ed5d9"
      },
      "cell_type": "code",
      "source": [
        "count_vect = CountVectorizer()\n",
        "bag_of_words = count_vect.fit_transform(train_data['CleanedText'].values)\n",
        "print(\"the type of count vectorizer \",type(bag_of_words))\n",
        "print(\"the shape of out text BOW vectorizer \",bag_of_words.get_shape())\n",
        "print(\"the number of unique words \", bag_of_words.get_shape()[1])"
      ],
      "execution_count": 121,
      "outputs": [
        {
          "output_type": "stream",
          "text": [
            "the type of count vectorizer  <class 'scipy.sparse.csr.csr_matrix'>\n",
            "the shape of out text BOW vectorizer  (60000, 30087)\n",
            "the number of unique words  30087\n"
          ],
          "name": "stdout"
        }
      ]
    },
    {
      "metadata": {
        "trusted": true,
        "_uuid": "cb938507ffff27580af75cd7deef3bdf7ed86160",
        "id": "X1U_VHjOcwqH",
        "colab_type": "code",
        "colab": {}
      },
      "cell_type": "code",
      "source": [
        "from sklearn.neighbors import KNeighborsClassifier"
      ],
      "execution_count": 0,
      "outputs": []
    },
    {
      "metadata": {
        "trusted": true,
        "_uuid": "141f9d7004b7e2f8644360d2a4769da5bfdea0d0",
        "id": "1h2WqGb6cwqQ",
        "colab_type": "code",
        "colab": {}
      },
      "cell_type": "code",
      "source": [
        "y=np.array(train_data['Score'])"
      ],
      "execution_count": 0,
      "outputs": []
    },
    {
      "metadata": {
        "trusted": true,
        "_uuid": "14be4e422bab5dcdd3c5a28f36d68ded57ccfaef",
        "id": "RErsAnzLcwqX",
        "colab_type": "code",
        "colab": {}
      },
      "cell_type": "code",
      "source": [
        "from sklearn.metrics import f1_score\n",
        "from sklearn.metrics import accuracy_score"
      ],
      "execution_count": 0,
      "outputs": []
    },
    {
      "metadata": {
        "trusted": true,
        "_uuid": "3157a543ff83da67867126b5e56f2865512cfce4",
        "id": "BIEOWXGkcwqg",
        "colab_type": "code",
        "colab": {
          "base_uri": "https://localhost:8080/",
          "height": 34
        },
        "outputId": "b070ead7-4f64-4c11-c611-34183ae74a3a"
      },
      "cell_type": "code",
      "source": [
        "y.shape"
      ],
      "execution_count": 125,
      "outputs": [
        {
          "output_type": "execute_result",
          "data": {
            "text/plain": [
              "(60000,)"
            ]
          },
          "metadata": {
            "tags": []
          },
          "execution_count": 125
        }
      ]
    },
    {
      "metadata": {
        "trusted": true,
        "_uuid": "c51fcd9ddac9d1ffbef37b1a34cd9ed779cad8b9",
        "id": "C1IR8Kgzcwqy",
        "colab_type": "code",
        "colab": {}
      },
      "cell_type": "code",
      "source": [
        "cv_bag_of_words=count_vect.transform(cv_data['CleanedText'])\n",
        "y_cv=np.array(cv_data['Score'])"
      ],
      "execution_count": 0,
      "outputs": []
    },
    {
      "metadata": {
        "id": "_TZAWZb9bW5V",
        "colab_type": "code",
        "colab": {}
      },
      "cell_type": "code",
      "source": [
        "cv_bag_of_words1=cv_bag_of_words[0:5000,:]\n",
        "cv_bag_of_words2=cv_bag_of_words[5000:10000,:]\n",
        "cv_bag_of_words3=cv_bag_of_words[10000:15000,:]\n",
        "cv_bag_of_words4=cv_bag_of_words[15000:20000,:]\n",
        "cv_bag_of_words_batches=[cv_bag_of_words1,cv_bag_of_words2,cv_bag_of_words3,cv_bag_of_words4]"
      ],
      "execution_count": 0,
      "outputs": []
    },
    {
      "metadata": {
        "id": "BrZRnbYkc4rd",
        "colab_type": "code",
        "colab": {
          "base_uri": "https://localhost:8080/",
          "height": 34
        },
        "outputId": "0a75e51a-4d50-4acd-ce19-16539c4f9335"
      },
      "cell_type": "code",
      "source": [
        "cv_bag_of_words1.shape"
      ],
      "execution_count": 128,
      "outputs": [
        {
          "output_type": "execute_result",
          "data": {
            "text/plain": [
              "(5000, 30087)"
            ]
          },
          "metadata": {
            "tags": []
          },
          "execution_count": 128
        }
      ]
    },
    {
      "metadata": {
        "id": "-PEtLvmDgUGy",
        "colab_type": "code",
        "colab": {}
      },
      "cell_type": "code",
      "source": [
        "from sklearn.metrics import confusion_matrix"
      ],
      "execution_count": 0,
      "outputs": []
    },
    {
      "metadata": {
        "trusted": true,
        "_uuid": "cf93a97d6eefa2b648d4911c114aaeb9fb85c389",
        "id": "cWy0LhQJcwq7",
        "colab_type": "code",
        "colab": {
          "base_uri": "https://localhost:8080/",
          "height": 782
        },
        "outputId": "497b3535-60d0-4b0d-96a3-580113f5b11b"
      },
      "cell_type": "code",
      "source": [
        "for i in range(1,30,2):\n",
        "    # instantiate learning model (k = 30)\n",
        "    knn = KNeighborsClassifier(n_neighbors=i)\n",
        "\n",
        "    # fitting the model on crossvalidation train\n",
        "    knn.fit(bag_of_words, y)\n",
        "    cv_pred=list()\n",
        "    # predict the response on the crossvalidation train\n",
        "    for cv_batch in cv_bag_of_words_batches:\n",
        "      batch_pred = knn.predict(cv_batch)\n",
        "      cv_pred.append(batch_pred)\n",
        "    cv_pred=np.array(cv_pred)\n",
        "    cv_pred=cv_pred.flatten()\n",
        "    # evaluate CV accuracy\n",
        "    acc = accuracy_score(y_cv, cv_pred, normalize=True) * float(100)\n",
        "    #cm=confusion_matrix(y_cv,cv_pred)\n",
        "    f1=f1_score(y_cv, cv_pred, labels=None, pos_label=1, average='micro', sample_weight=None)\n",
        "    cm=confusion_matrix(y_cv, cv_pred)\n",
        "    print(cm)\n",
        "    print('CV accuracy for k = {} is {} and  f1-score = {}'.format(i,acc,f1))"
      ],
      "execution_count": 130,
      "outputs": [
        {
          "output_type": "stream",
          "text": [
            "[[  610  2152]\n",
            " [ 1271 15967]]\n",
            "CV accuracy for k = 1 is 82.88499999999999 and  f1-score = 0.82885\n",
            "[[  397  2365]\n",
            " [  510 16728]]\n",
            "CV accuracy for k = 3 is 85.625 and  f1-score = 0.85625\n",
            "[[  281  2481]\n",
            " [  246 16992]]\n",
            "CV accuracy for k = 5 is 86.36500000000001 and  f1-score = 0.86365\n",
            "[[  212  2550]\n",
            " [  156 17082]]\n",
            "CV accuracy for k = 7 is 86.47 and  f1-score = 0.8646999999999999\n",
            "[[  162  2600]\n",
            " [  104 17134]]\n",
            "CV accuracy for k = 9 is 86.48 and  f1-score = 0.8648\n",
            "[[  131  2631]\n",
            " [   77 17161]]\n",
            "CV accuracy for k = 11 is 86.46000000000001 and  f1-score = 0.8646\n",
            "[[  102  2660]\n",
            " [   60 17178]]\n",
            "CV accuracy for k = 13 is 86.4 and  f1-score = 0.864\n",
            "[[   88  2674]\n",
            " [   52 17186]]\n",
            "CV accuracy for k = 15 is 86.37 and  f1-score = 0.8637\n",
            "[[   72  2690]\n",
            " [   44 17194]]\n",
            "CV accuracy for k = 17 is 86.33 and  f1-score = 0.8633\n",
            "[[   61  2701]\n",
            " [   34 17204]]\n",
            "CV accuracy for k = 19 is 86.325 and  f1-score = 0.8632499999999999\n",
            "[[   67  2695]\n",
            " [   27 17211]]\n",
            "CV accuracy for k = 21 is 86.39 and  f1-score = 0.8639\n",
            "[[   56  2706]\n",
            " [   25 17213]]\n",
            "CV accuracy for k = 23 is 86.345 and  f1-score = 0.86345\n",
            "[[   57  2705]\n",
            " [   20 17218]]\n",
            "CV accuracy for k = 25 is 86.375 and  f1-score = 0.86375\n",
            "[[   51  2711]\n",
            " [   19 17219]]\n",
            "CV accuracy for k = 27 is 86.35000000000001 and  f1-score = 0.8635\n",
            "[[   41  2721]\n",
            " [   14 17224]]\n",
            "CV accuracy for k = 29 is 86.325 and  f1-score = 0.8632499999999999\n"
          ],
          "name": "stdout"
        }
      ]
    },
    {
      "metadata": {
        "trusted": true,
        "_uuid": "fff4340ddafda5b51e888ec044bfd9acabbccb2f",
        "id": "0I0jtk4CcwrG",
        "colab_type": "code",
        "colab": {}
      },
      "cell_type": "code",
      "source": [
        "test_bag_of_words=count_vect.transform(test_data['CleanedText'])\n",
        "y_test=np.array(test_data['Score'])"
      ],
      "execution_count": 0,
      "outputs": []
    },
    {
      "metadata": {
        "trusted": true,
        "_uuid": "ddf457a2fd25926bd3f47812b1bce19ae48bd747",
        "id": "XGQ3JH3JcwrT",
        "colab_type": "code",
        "colab": {}
      },
      "cell_type": "code",
      "source": [
        "test_bag_of_words1=test_bag_of_words[0:5000,:]\n",
        "test_bag_of_words2=test_bag_of_words[5000:10000,:]\n",
        "test_bag_of_words3=test_bag_of_words[10000:15000,:]\n",
        "test_bag_of_words4=test_bag_of_words[15000:20000,:]\n",
        "test_bag_of_words_batches=[test_bag_of_words1,test_bag_of_words2,test_bag_of_words3,test_bag_of_words4]"
      ],
      "execution_count": 0,
      "outputs": []
    },
    {
      "metadata": {
        "trusted": true,
        "_uuid": "6ef67c896f9911e8b9cb2e10261d2edb7b9192fb",
        "id": "x5vCO7kacwrb",
        "colab_type": "code",
        "colab": {
          "base_uri": "https://localhost:8080/",
          "height": 299
        },
        "outputId": "abcb5c37-3dc5-4b29-a3ef-bbc771e5ae5a"
      },
      "cell_type": "code",
      "source": [
        "algorithms=['brute','kd_tree']\n",
        "for alg in algorithms:\n",
        "    knn = KNeighborsClassifier(n_neighbors=3,algorithm='kd_tree')\n",
        "    knn.fit(bag_of_words,y)\n",
        "    pred=list()\n",
        "    for test_batch in test_bag_of_words_batches:      \n",
        "      batch_pred = knn.predict(test_batch)\n",
        "      pred.append(batch_pred)\n",
        "    pred=np.array(pred)\n",
        "    pred=pred.flatten()\n",
        "    acc = accuracy_score(y_test, pred, normalize=True) * float(100)\n",
        "    f1=f1_score(y_test, pred, labels=None, pos_label=1, average='micro', sample_weight=None)\n",
        "    print('Test accuracy for algorithm - {} and  k = 3 is {} and f1-score is {}' .format(alg,acc,f1))\n",
        "    cm=confusion_matrix(y_test, pred)\n",
        "    sns.heatmap(cm,cmap='coolwarm',annot=True)"
      ],
      "execution_count": 134,
      "outputs": [
        {
          "output_type": "stream",
          "text": [
            "Test accuracy for algorithm - brute and  k = 3 is 83.73 and f1-score is 0.8373000000000002\n",
            "Test accuracy for algorithm - kd_tree and  k = 3 is 83.73 and f1-score is 0.8373000000000002\n"
          ],
          "name": "stdout"
        },
        {
          "output_type": "display_data",
          "data": {
            "image/png": "[encoded data removed]",
            "text/plain": [
              "<matplotlib.figure.Figure at 0x7fdff3310518>"
            ]
          },
          "metadata": {
            "tags": []
          }
        }
      ]
    },
    {
      "metadata": {
        "_uuid": "874fb2f78d2cccd69699cb7ff43c26aae18cc2d7",
        "id": "tfA8qOyJcwrl",
        "colab_type": "text"
      },
      "cell_type": "markdown",
      "source": [
        "*Optimal K for bag of words is 9  and the test accuracy is 85.65 cross validation accuracy is 83.73 *"
      ]
    },
    {
      "metadata": {
        "_uuid": "ab5a5e75609e043d18d89b807062a9129d5c761c",
        "id": "rkfz1yx_cwro",
        "colab_type": "text"
      },
      "cell_type": "markdown",
      "source": [
        "# **TF-IDF**"
      ]
    },
    {
      "metadata": {
        "trusted": true,
        "_uuid": "20eb2d328ca342225d5654dccefc493a8d096e42",
        "id": "sLvu0hTacwrq",
        "colab_type": "code",
        "colab": {
          "base_uri": "https://localhost:8080/",
          "height": 68
        },
        "outputId": "5671fae1-7ee4-4673-fa20-2860a06fc379"
      },
      "cell_type": "code",
      "source": [
        "tf_idf_vect = TfidfVectorizer(ngram_range=(1,2))\n",
        "final_tf_idf = tf_idf_vect.fit_transform(train_data['CleanedText'].values)\n",
        "print(\"the type of count vectorizer \",type(final_tf_idf))\n",
        "print(\"the shape of out text TFIDF vectorizer \",final_tf_idf.get_shape())\n",
        "print(\"the number of unique words including both unigrams and bigrams \", final_tf_idf.get_shape()[1])"
      ],
      "execution_count": 29,
      "outputs": [
        {
          "output_type": "stream",
          "text": [
            "the type of count vectorizer  <class 'scipy.sparse.csr.csr_matrix'>\n",
            "the shape of out text TFIDF vectorizer  (60000, 874120)\n",
            "the number of unique words including both unigrams and bigrams  874120\n"
          ],
          "name": "stdout"
        }
      ]
    },
    {
      "metadata": {
        "trusted": true,
        "_uuid": "e9645436b12569d6b976f8b36e7952517f9bc41d",
        "id": "Iqug7mIGcwr0",
        "colab_type": "code",
        "colab": {}
      },
      "cell_type": "code",
      "source": [
        "cv_final_tf_idf=tf_idf_vect.transform(cv_data['CleanedText'])\n",
        "y_cv=np.array(cv_data['Score'])"
      ],
      "execution_count": 0,
      "outputs": []
    },
    {
      "metadata": {
        "id": "m4uFN67yf6kQ",
        "colab_type": "code",
        "colab": {}
      },
      "cell_type": "code",
      "source": [
        "cv_final_tf_idf1=cv_final_tf_idf[0:5000,:]\n",
        "cv_final_tf_idf2=cv_final_tf_idf[5000:10000,:]\n",
        "cv_final_tf_idf3=cv_final_tf_idf[10000:15000,:]\n",
        "cv_final_tf_idf4=cv_final_tf_idf[15000:20000,:]\n",
        "cv_final_tf_idf_batches=[cv_final_tf_idf1,cv_final_tf_idf2,cv_final_tf_idf3,cv_final_tf_idf4]"
      ],
      "execution_count": 0,
      "outputs": []
    },
    {
      "metadata": {
        "trusted": true,
        "_uuid": "23b81b93d5bc6753216ddae5ec8136d122ef3cac",
        "id": "Ugq7M22Ocwr8",
        "colab_type": "code",
        "colab": {
          "base_uri": "https://localhost:8080/",
          "height": 782
        },
        "outputId": "1705a626-1306-4d0c-9ea8-23614b34839a"
      },
      "cell_type": "code",
      "source": [
        "for i in range(1,30,2):\n",
        "    # instantiate learning model (k = 30)\n",
        "    knn = KNeighborsClassifier(n_neighbors=i)\n",
        "\n",
        "    # fitting the model on crossvalidation train\n",
        "    knn.fit(final_tf_idf, y)\n",
        "\n",
        "    # predict the response on the crossvalidation train\n",
        "    cv_pred=list()\n",
        "    # predict the response on the crossvalidation train\n",
        "    for cv_batch in cv_final_tf_idf_batches:\n",
        "      batch_pred = knn.predict(cv_batch)\n",
        "      cv_pred.append(batch_pred)\n",
        "    cv_pred=np.array(cv_pred)\n",
        "    cv_pred=cv_pred.flatten()\n",
        "    # evaluate CV accuracy\n",
        "    acc = accuracy_score(y_cv, cv_pred, normalize=True) * float(100)\n",
        "    f1=f1_score(y_cv, cv_pred, labels=None, pos_label=1, average='micro', sample_weight=None)\n",
        "\n",
        "    cm=confusion_matrix(y_cv, cv_pred)\n",
        "    print(cm)\n",
        "    print('CV accuracy for k = {} is {} and  f1-score = {}'.format(i,acc,f1))"
      ],
      "execution_count": 138,
      "outputs": [
        {
          "output_type": "stream",
          "text": [
            "[[  949  1813]\n",
            " [ 1671 15567]]\n",
            "CV accuracy for k = 1 is 82.58 and  f1-score = 0.8258000000000001\n",
            "[[  738  2024]\n",
            " [  685 16553]]\n",
            "CV accuracy for k = 3 is 86.455 and  f1-score = 0.86455\n",
            "[[  628  2134]\n",
            " [  342 16896]]\n",
            "CV accuracy for k = 5 is 87.62 and  f1-score = 0.8762\n",
            "[[  547  2215]\n",
            " [  239 16999]]\n",
            "CV accuracy for k = 7 is 87.72999999999999 and  f1-score = 0.8773\n",
            "[[  498  2264]\n",
            " [  158 17080]]\n",
            "CV accuracy for k = 9 is 87.89 and  f1-score = 0.8789\n",
            "[[  472  2290]\n",
            " [  128 17110]]\n",
            "CV accuracy for k = 11 is 87.91 and  f1-score = 0.8791\n",
            "[[  442  2320]\n",
            " [  100 17138]]\n",
            "CV accuracy for k = 13 is 87.9 and  f1-score = 0.879\n",
            "[[  414  2348]\n",
            " [   84 17154]]\n",
            "CV accuracy for k = 15 is 87.83999999999999 and  f1-score = 0.8784\n",
            "[[  400  2362]\n",
            " [   69 17169]]\n",
            "CV accuracy for k = 17 is 87.845 and  f1-score = 0.8784500000000001\n",
            "[[  372  2390]\n",
            " [   64 17174]]\n",
            "CV accuracy for k = 19 is 87.72999999999999 and  f1-score = 0.8773\n",
            "[[  340  2422]\n",
            " [   58 17180]]\n",
            "CV accuracy for k = 21 is 87.6 and  f1-score = 0.8759999999999999\n",
            "[[  340  2422]\n",
            " [   56 17182]]\n",
            "CV accuracy for k = 23 is 87.61 and  f1-score = 0.8760999999999999\n",
            "[[  333  2429]\n",
            " [   47 17191]]\n",
            "CV accuracy for k = 25 is 87.62 and  f1-score = 0.8762\n",
            "[[  318  2444]\n",
            " [   47 17191]]\n",
            "CV accuracy for k = 27 is 87.545 and  f1-score = 0.87545\n",
            "[[  310  2452]\n",
            " [   42 17196]]\n",
            "CV accuracy for k = 29 is 87.53 and  f1-score = 0.8753\n"
          ],
          "name": "stdout"
        }
      ]
    },
    {
      "metadata": {
        "trusted": true,
        "_uuid": "f01a7056797ef21d1d7d1df84c852ba16fbcd8bb",
        "id": "GlAx4RiXcwsF",
        "colab_type": "code",
        "colab": {}
      },
      "cell_type": "code",
      "source": [
        "test_final_tf_idf=tf_idf_vect.transform(test_data['CleanedText'])\n",
        "y_test=np.array(cv_data['Score'])"
      ],
      "execution_count": 0,
      "outputs": []
    },
    {
      "metadata": {
        "id": "oHPgkFGHg7ZM",
        "colab_type": "code",
        "colab": {}
      },
      "cell_type": "code",
      "source": [
        "test_final_tf_idf1=test_final_tf_idf[0:5000,:]\n",
        "test_final_tf_idf2=test_final_tf_idf[5000:10000,:]\n",
        "test_final_tf_idf3=test_final_tf_idf[10000:15000,:]\n",
        "test_final_tf_idf4=test_final_tf_idf[15000:20000,:]\n",
        "test_final_tf_idf_batches=[test_final_tf_idf1,test_final_tf_idf2,test_final_tf_idf3,test_final_tf_idf4]"
      ],
      "execution_count": 0,
      "outputs": []
    },
    {
      "metadata": {
        "trusted": true,
        "_uuid": "4bc3fed9ebeb1c7713a08e6e05614db0ba7ac934",
        "id": "tkZHdYhbcwsM",
        "colab_type": "code",
        "colab": {
          "base_uri": "https://localhost:8080/",
          "height": 367
        },
        "outputId": "a2882a9a-3fc2-4a7b-91a3-3706c2080682"
      },
      "cell_type": "code",
      "source": [
        "algorithms=['brute','kd_tree']\n",
        "for alg in algorithms:\n",
        "    knn = KNeighborsClassifier(n_neighbors=3,algorithm=alg)\n",
        "    knn.fit(final_tf_idf,y)\n",
        "    pred=list()\n",
        "    for test_batch in test_final_tf_idf_batches:      \n",
        "      batch_pred = knn.predict(test_batch)\n",
        "      pred.append(batch_pred)\n",
        "    pred=np.array(pred)\n",
        "    pred=pred.flatten()\n",
        "    acc = accuracy_score(y_test, pred, normalize=True) * float(100)\n",
        "    f1=f1_score(y_test, pred, labels=None, pos_label=1, average='micro', sample_weight=None)\n",
        "    print('Test accuracy for algorithm - {} and  k = 3 is {} and f1-score is {}' .format(alg,acc,f1))\n",
        "    cm=confusion_matrix(y_test, pred)\n",
        "    print(cm)\n",
        "    sns.heatmap(cm,cmap='coolwarm',annot=True)\n",
        "    "
      ],
      "execution_count": 144,
      "outputs": [
        {
          "output_type": "stream",
          "text": [
            "Test accuracy for algorithm - brute and  k = 3 is 80.75 and f1-score is 0.8075\n",
            "[[  205  2557]\n",
            " [ 1293 15945]]\n",
            "Test accuracy for algorithm - kd_tree and  k = 3 is 80.75 and f1-score is 0.8075\n",
            "[[  205  2557]\n",
            " [ 1293 15945]]\n"
          ],
          "name": "stdout"
        },
        {
          "output_type": "display_data",
          "data": {
            "image/png": "[encoded data removed]",
            "text/plain": [
              "<matplotlib.figure.Figure at 0x7fdffb43f3c8>"
            ]
          },
          "metadata": {
            "tags": []
          }
        }
      ]
    },
    {
      "metadata": {
        "id": "dSTrhATwblPQ",
        "colab_type": "text"
      },
      "cell_type": "markdown",
      "source": [
        "*Optimal K for bag of words is 11  and the test accuracy is 87.9 cross validation accuracy is 83.8*"
      ]
    },
    {
      "metadata": {
        "_uuid": "dfacce597f912355c03bb92dfbca6c8c7f87ed34",
        "id": "2HxJDJrYcwsT",
        "colab_type": "text"
      },
      "cell_type": "markdown",
      "source": [
        "# **Word to vec**"
      ]
    },
    {
      "metadata": {
        "trusted": true,
        "_uuid": "8b5fcf8553cd3400e90102f358b0e8bf979daf49",
        "id": "LO5xrQWscwsW",
        "colab_type": "code",
        "colab": {}
      },
      "cell_type": "code",
      "source": [
        "i=0\n",
        "list_of_sent=[]\n",
        "for sent in train_data['CleanedText'].values:\n",
        "    list_of_sent.append(sent.split())"
      ],
      "execution_count": 0,
      "outputs": []
    },
    {
      "metadata": {
        "trusted": true,
        "_uuid": "0d13751db3695411be81dff09611d00ee5baf960",
        "id": "m_r9mIyqcwsf",
        "colab_type": "code",
        "colab": {
          "base_uri": "https://localhost:8080/",
          "height": 34
        },
        "outputId": "d1cf169a-4300-4a73-ae7a-e673176ef75b"
      },
      "cell_type": "code",
      "source": [
        "len(list_of_sent)"
      ],
      "execution_count": 33,
      "outputs": [
        {
          "output_type": "execute_result",
          "data": {
            "text/plain": [
              "60000"
            ]
          },
          "metadata": {
            "tags": []
          },
          "execution_count": 33
        }
      ]
    },
    {
      "metadata": {
        "trusted": true,
        "_uuid": "6bc7048dcd17113a5fbf8742052b6daaf78f4385",
        "id": "qEJsIcZqcwsu",
        "colab_type": "code",
        "colab": {}
      },
      "cell_type": "code",
      "source": [
        "w2v_model=Word2Vec(list_of_sent,min_count=5,size=50, workers=4)"
      ],
      "execution_count": 0,
      "outputs": []
    },
    {
      "metadata": {
        "trusted": true,
        "_uuid": "e5be0876371f3b5e61267fa785a993e67f5d36a7",
        "id": "2QB5C9Izcws2",
        "colab_type": "code",
        "colab": {
          "base_uri": "https://localhost:8080/",
          "height": 71
        },
        "outputId": "2b01d408-d524-49f9-ea94-60f788ae2f00"
      },
      "cell_type": "code",
      "source": [
        "w2v_words = list(w2v_model.wv.vocab)\n",
        "print(\"number of words that occured minimum 5 times \",len(w2v_words))\n",
        "print(\"sample words \", w2v_words[0:50])"
      ],
      "execution_count": 35,
      "outputs": [
        {
          "output_type": "stream",
          "text": [
            "number of words that occured minimum 5 times  10210\n",
            "sample words  ['littl', 'book', 'make', 'son', 'laugh', 'loud', 'recit', 'car', 'drive', 'along', 'alway', 'sing', 'refrain', 'hes', 'learn', 'whale', 'india', 'droop', 'love', 'new', 'word', 'introduc', 'silli', 'classic', 'will', 'bet', 'still', 'abl', 'memori', 'colleg', 'grew', 'read', 'sendak', 'watch', 'realli', 'rosi', 'movi', 'incorpor', 'howev', 'miss', 'hard', 'cover', 'version', 'paperback', 'seem', 'kind', 'flimsi', 'take', 'two', 'hand']\n"
          ],
          "name": "stdout"
        }
      ]
    },
    {
      "metadata": {
        "id": "unJhFKOHanRz",
        "colab_type": "text"
      },
      "cell_type": "markdown",
      "source": [
        "# Avg Word to Vec"
      ]
    },
    {
      "metadata": {
        "trusted": true,
        "_uuid": "c926e216fc3cf209c50961977f352b199da13cff",
        "id": "9e6Ywb9PcwtP",
        "colab_type": "code",
        "colab": {}
      },
      "cell_type": "code",
      "source": [
        "sent_vectors = []\n",
        "for sent in list_of_sent:\n",
        "    sent_vec = np.zeros(50) \n",
        "    cnt_words =0; \n",
        "    for word in sent: \n",
        "        if word in w2v_words:\n",
        "            vec = w2v_model.wv[word]\n",
        "            sent_vec += vec\n",
        "            cnt_words += 1\n",
        "    if cnt_words != 0:\n",
        "        sent_vec /= cnt_words\n",
        "    sent_vectors.append(sent_vec)"
      ],
      "execution_count": 0,
      "outputs": []
    },
    {
      "metadata": {
        "_uuid": "1d91f48cc2285066bd88bc1e01f0c5c8217bf472",
        "id": "bapZXRancwtW",
        "colab_type": "text"
      },
      "cell_type": "markdown",
      "source": [
        "*Transforming cross validation data*"
      ]
    },
    {
      "metadata": {
        "trusted": true,
        "_uuid": "2c7727171068a57547a156f63f9d84c1e5501e4e",
        "id": "YtW1Uanzcwtb",
        "colab_type": "code",
        "colab": {}
      },
      "cell_type": "code",
      "source": [
        "i=0\n",
        "cv_list_of_sent=[]\n",
        "for sent in cv_data['CleanedText'].values:\n",
        "     cv_list_of_sent.append(sent.split())"
      ],
      "execution_count": 0,
      "outputs": []
    },
    {
      "metadata": {
        "trusted": true,
        "_uuid": "54b9cf6031f3a1a5bfbf5f63cd7b84fce97f730d",
        "id": "7nAKUfL2cwtl",
        "colab_type": "code",
        "colab": {
          "base_uri": "https://localhost:8080/",
          "height": 34
        },
        "outputId": "7e9031bf-129b-4900-a49e-e87db7e9ff05"
      },
      "cell_type": "code",
      "source": [
        "len(cv_list_of_sent)"
      ],
      "execution_count": 38,
      "outputs": [
        {
          "output_type": "execute_result",
          "data": {
            "text/plain": [
              "20000"
            ]
          },
          "metadata": {
            "tags": []
          },
          "execution_count": 38
        }
      ]
    },
    {
      "metadata": {
        "trusted": true,
        "_uuid": "73877498e9311f9e5c9d502bd29167a60620e8c0",
        "id": "Ww_RYIhfcwt1",
        "colab_type": "code",
        "colab": {}
      },
      "cell_type": "code",
      "source": [
        "y_cv=np.array(cv_data['Score'])"
      ],
      "execution_count": 0,
      "outputs": []
    },
    {
      "metadata": {
        "trusted": true,
        "_uuid": "9bdbb956806565c0f1a45b988bcbfde2189189f7",
        "id": "az8pFb2RcwuD",
        "colab_type": "code",
        "colab": {
          "base_uri": "https://localhost:8080/",
          "height": 34
        },
        "outputId": "528b02e6-ebbd-4152-db07-131332b406e4"
      },
      "cell_type": "code",
      "source": [
        "y_cv.shape"
      ],
      "execution_count": 40,
      "outputs": [
        {
          "output_type": "execute_result",
          "data": {
            "text/plain": [
              "(20000,)"
            ]
          },
          "metadata": {
            "tags": []
          },
          "execution_count": 40
        }
      ]
    },
    {
      "metadata": {
        "trusted": true,
        "_uuid": "1503868e8e0ec4fd7b090a1f4338762917258bc4",
        "id": "bXubFLcXcwuS",
        "colab_type": "code",
        "colab": {}
      },
      "cell_type": "code",
      "source": [
        "cv_sent_vectors = []\n",
        "for sent in cv_list_of_sent:\n",
        "    sent_vec = np.zeros(50) \n",
        "    cnt_words =0; \n",
        "    for word in sent: \n",
        "        if word in w2v_words:\n",
        "            vec = w2v_model.wv[word]\n",
        "            sent_vec += vec\n",
        "            cnt_words += 1\n",
        "    if cnt_words != 0:\n",
        "        sent_vec /= cnt_words\n",
        "    cv_sent_vectors.append(sent_vec)"
      ],
      "execution_count": 0,
      "outputs": []
    },
    {
      "metadata": {
        "trusted": true,
        "_uuid": "e1e6b59cf4568f76df434fafbb0a284645f918f7",
        "id": "xyVdLDz_cwuZ",
        "colab_type": "code",
        "colab": {
          "base_uri": "https://localhost:8080/",
          "height": 187
        },
        "outputId": "a78d2b27-45e2-4d67-a04b-8227db01b79c"
      },
      "cell_type": "code",
      "source": [
        "cv_sent_vectors[0]"
      ],
      "execution_count": 42,
      "outputs": [
        {
          "output_type": "execute_result",
          "data": {
            "text/plain": [
              "array([ 0.1293821 ,  0.44440115, -0.0641209 , -0.38645473,  0.0035178 ,\n",
              "       -0.00774133,  0.39929006, -0.05636174, -0.031571  , -0.00538722,\n",
              "       -0.11928659,  0.40651485, -0.08679049,  0.54306923, -0.63699703,\n",
              "       -0.27302073,  0.11034759, -0.09056387,  0.09269256,  0.08742533,\n",
              "        0.42986796,  0.5511942 , -0.26738661, -0.5824515 ,  1.00439468,\n",
              "       -0.51839031, -0.12055616, -0.02916124,  1.04591703,  0.06134023,\n",
              "       -0.37444932, -0.13481984,  0.15269877,  0.19145486, -0.64563406,\n",
              "       -0.34795959,  1.13133107,  0.47716601,  0.2957113 , -0.23769696,\n",
              "        0.361264  , -0.65826652, -0.14786522, -0.23847861, -0.02762349,\n",
              "        0.68666485, -0.81186051,  0.43143571,  0.217891  , -0.10630193])"
            ]
          },
          "metadata": {
            "tags": []
          },
          "execution_count": 42
        }
      ]
    },
    {
      "metadata": {
        "trusted": true,
        "_uuid": "8324f878021051302e0003818ed06bc3827a3130",
        "id": "r4u-ceA2cwuo",
        "colab_type": "code",
        "colab": {}
      },
      "cell_type": "code",
      "source": [
        "from sklearn.metrics import accuracy_score\n",
        "from sklearn.metrics import f1_score"
      ],
      "execution_count": 0,
      "outputs": []
    },
    {
      "metadata": {
        "trusted": true,
        "_uuid": "0a7c3b9d8dcbef2dabe6aee5ab4d6e2cdbb4d309",
        "id": "7rt6uqZJcwuu",
        "colab_type": "code",
        "colab": {}
      },
      "cell_type": "code",
      "source": [
        ""
      ],
      "execution_count": 0,
      "outputs": []
    },
    {
      "metadata": {
        "trusted": true,
        "_uuid": "68931a2c476566c16a17d827a110d34679f547a3",
        "id": "NvH9vfVMcwu0",
        "colab_type": "code",
        "colab": {
          "base_uri": "https://localhost:8080/",
          "height": 782
        },
        "outputId": "766354a5-db50-4dd3-ce27-1d33ab2703a0"
      },
      "cell_type": "code",
      "source": [
        "for i in range(1,30,2):\n",
        "    # instantiate learning model (k = 30)\n",
        "    knn = KNeighborsClassifier(n_neighbors=i)\n",
        "\n",
        "    # fitting the model on crossvalidation train\n",
        "    knn.fit(sent_vectors, y)\n",
        "\n",
        "    # predict the response on the crossvalidation train\n",
        "    cv_pred = knn.predict(cv_sent_vectors)\n",
        "    # evaluate CV accuracy\n",
        "    acc = accuracy_score(y_cv, cv_pred, normalize=True) * float(100)\n",
        "    f1=f1_score(y_cv, cv_pred, labels=None, pos_label=1, average='micro', sample_weight=None)\n",
        "    \n",
        "    cm=confusion_matrix(y_cv, cv_pred)\n",
        "    print(cm)\n",
        "    print('CV accuracy for k = {} is {} and  f1-score = {}'.format(i,acc,f1))"
      ],
      "execution_count": 157,
      "outputs": [
        {
          "output_type": "stream",
          "text": [
            "[[ 1168  1594]\n",
            " [ 1407 15831]]\n",
            "CV accuracy for k = 1 is 84.995 and  f1-score = 0.84995\n",
            "[[ 1046  1716]\n",
            " [  712 16526]]\n",
            "CV accuracy for k = 3 is 87.86 and  f1-score = 0.8785999999999999\n",
            "[[  977  1785]\n",
            " [  517 16721]]\n",
            "CV accuracy for k = 5 is 88.49000000000001 and  f1-score = 0.8849\n",
            "[[  923  1839]\n",
            " [  420 16818]]\n",
            "CV accuracy for k = 7 is 88.705 and  f1-score = 0.88705\n",
            "[[  898  1864]\n",
            " [  337 16901]]\n",
            "CV accuracy for k = 9 is 88.995 and  f1-score = 0.88995\n",
            "[[  874  1888]\n",
            " [  301 16937]]\n",
            "CV accuracy for k = 11 is 89.05499999999999 and  f1-score = 0.89055\n",
            "[[  839  1923]\n",
            " [  269 16969]]\n",
            "CV accuracy for k = 13 is 89.03999999999999 and  f1-score = 0.8904\n",
            "[[  809  1953]\n",
            " [  240 16998]]\n",
            "CV accuracy for k = 15 is 89.035 and  f1-score = 0.89035\n",
            "[[  797  1965]\n",
            " [  225 17013]]\n",
            "CV accuracy for k = 17 is 89.05 and  f1-score = 0.8905\n",
            "[[  778  1984]\n",
            " [  225 17013]]\n",
            "CV accuracy for k = 19 is 88.955 and  f1-score = 0.8895500000000001\n",
            "[[  761  2001]\n",
            " [  221 17017]]\n",
            "CV accuracy for k = 21 is 88.89 and  f1-score = 0.8889000000000001\n",
            "[[  758  2004]\n",
            " [  205 17033]]\n",
            "CV accuracy for k = 23 is 88.955 and  f1-score = 0.8895500000000001\n",
            "[[  748  2014]\n",
            " [  201 17037]]\n",
            "CV accuracy for k = 25 is 88.925 and  f1-score = 0.88925\n",
            "[[  732  2030]\n",
            " [  189 17049]]\n",
            "CV accuracy for k = 27 is 88.905 and  f1-score = 0.88905\n",
            "[[  721  2041]\n",
            " [  182 17056]]\n",
            "CV accuracy for k = 29 is 88.885 and  f1-score = 0.88885\n"
          ],
          "name": "stdout"
        }
      ]
    },
    {
      "metadata": {
        "trusted": true,
        "_uuid": "79d91e696c2306635090a55d2ddc85a3f4b12391",
        "id": "GEvq4Wkgcwu8",
        "colab_type": "code",
        "colab": {}
      },
      "cell_type": "code",
      "source": [
        "i=0\n",
        "test_list_of_sent=[]\n",
        "for sent in test_data['CleanedText'].values:\n",
        "     test_list_of_sent.append(sent.split())"
      ],
      "execution_count": 0,
      "outputs": []
    },
    {
      "metadata": {
        "trusted": true,
        "_uuid": "60ab5630cbcc72673d70955803e7c284cad4c8dd",
        "id": "vFYYzWy3cwvE",
        "colab_type": "code",
        "colab": {}
      },
      "cell_type": "code",
      "source": [
        "test_sent_vectors = []\n",
        "for sent in test_list_of_sent:\n",
        "    sent_vec = np.zeros(50) \n",
        "    cnt_words =0; \n",
        "    for word in sent: \n",
        "        if word in w2v_words:\n",
        "            vec = w2v_model.wv[word]\n",
        "            sent_vec += vec\n",
        "            cnt_words += 1\n",
        "    if cnt_words != 0:\n",
        "        sent_vec /= cnt_words\n",
        "    test_sent_vectors.append(sent_vec)"
      ],
      "execution_count": 0,
      "outputs": []
    },
    {
      "metadata": {
        "trusted": true,
        "_uuid": "955a1366ce779af291ce6e9ae82ca6cb8372cf66",
        "id": "ImXAYPnCcwvQ",
        "colab_type": "code",
        "colab": {}
      },
      "cell_type": "code",
      "source": [
        "y_test=np.array(test_data['Score'])"
      ],
      "execution_count": 0,
      "outputs": []
    },
    {
      "metadata": {
        "id": "lTArdsS6aSdg",
        "colab_type": "code",
        "colab": {}
      },
      "cell_type": "code",
      "source": [
        "test_sent_vectors=np.array(test_sent_vectors)"
      ],
      "execution_count": 0,
      "outputs": []
    },
    {
      "metadata": {
        "id": "eMXuR0jUaaZP",
        "colab_type": "code",
        "colab": {}
      },
      "cell_type": "code",
      "source": [
        "test_sent_vectors_1=test_sent_vectors[0:5000]\n",
        "test_sent_vectors_2=test_sent_vectors[5000:10000]\n",
        "test_sent_vectors_3=test_sent_vectors[10000:15000]\n",
        "test_sent_vectors_4=test_sent_vectors[15000:20000]\n",
        "test_sent_vectors_batch=[test_sent_vectors_1,test_sent_vectors_2,test_sent_vectors_3,test_sent_vectors_4]"
      ],
      "execution_count": 0,
      "outputs": []
    },
    {
      "metadata": {
        "trusted": true,
        "_uuid": "8cb221907489340d229c002a35e190eb8bbd679f",
        "id": "190jGkwocwvX",
        "colab_type": "code",
        "colab": {
          "base_uri": "https://localhost:8080/",
          "height": 367
        },
        "outputId": "939acc4d-e0b8-4605-d0a5-b93efb45d710"
      },
      "cell_type": "code",
      "source": [
        "\n",
        "algorithms=['brute','kd_tree']\n",
        "for alg in algorithms:\n",
        "    knn = KNeighborsClassifier(n_neighbors=3,algorithm=alg)\n",
        "    knn.fit(sent_vectors, y)\n",
        "    pred=list()\n",
        "    for test_batch in test_sent_vectors_batch:      \n",
        "      batch_pred = knn.predict(test_batch)\n",
        "      pred.append(batch_pred)\n",
        "    pred=np.array(pred)\n",
        "    pred=pred.flatten()\n",
        "    acc = accuracy_score(y_test, pred, normalize=True) * float(100)\n",
        "    f1=f1_score(y_test, pred, labels=None, pos_label=1, average='micro', sample_weight=None)\n",
        "    print('Test accuracy for algorithm - {} and  k = 3 is {} and f1-score is {}' .format(alg,acc,f1))\n",
        "    cm=confusion_matrix(y_test, pred)\n",
        "    print(cm)\n",
        "    sns.heatmap(cm,cmap='coolwarm',annot=True)\n",
        "    "
      ],
      "execution_count": 54,
      "outputs": [
        {
          "output_type": "stream",
          "text": [
            "Test accuracy for algorithm - brute and  k = 3 is 86.105 and f1-score is 0.86105\n",
            "[[ 1161  2007]\n",
            " [  772 16060]]\n",
            "Test accuracy for algorithm - kd_tree and  k = 3 is 86.105 and f1-score is 0.86105\n",
            "[[ 1161  2007]\n",
            " [  772 16060]]\n"
          ],
          "name": "stdout"
        },
        {
          "output_type": "display_data",
          "data": {
            "image/png": "[encoded data removed]",
            "text/plain": [
              "<matplotlib.figure.Figure at 0x7fa467ca9e10>"
            ]
          },
          "metadata": {
            "tags": []
          }
        }
      ]
    },
    {
      "metadata": {
        "id": "BlXcreuNb9Xl",
        "colab_type": "text"
      },
      "cell_type": "markdown",
      "source": [
        "*Optimal K for bag of words is 9  and the test accuracy is 88.8 cross validation accuracy is 87.3*"
      ]
    },
    {
      "metadata": {
        "id": "9tE4KfEva1HY",
        "colab_type": "text"
      },
      "cell_type": "markdown",
      "source": [
        "# Tf-idf W 2 Vec"
      ]
    },
    {
      "metadata": {
        "id": "scDkLo-uXAd0",
        "colab_type": "code",
        "colab": {}
      },
      "cell_type": "code",
      "source": [
        "tfidf_feat = tf_idf_vect.get_feature_names()"
      ],
      "execution_count": 0,
      "outputs": []
    },
    {
      "metadata": {
        "id": "4lQvJ4bBXCTT",
        "colab_type": "code",
        "colab": {}
      },
      "cell_type": "code",
      "source": [
        "tfidf_sent_vectors = []\n",
        "row=33000;\n",
        "for sent in list_of_sent[33000:37000]: \n",
        "    sent_vec = np.zeros(50)\n",
        "    weight_sum =0\n",
        "    for word in sent: \n",
        "        if word in w2v_words:\n",
        "            vec = w2v_model.wv[word]\n",
        "           \n",
        "            tf_idf = final_tf_idf[row, tfidf_feat.index(word)]\n",
        "            sent_vec += (vec * tf_idf)\n",
        "            weight_sum += tf_idf\n",
        "  \n",
        "    if  row%500==0:\n",
        "      print(row)\n",
        "    if weight_sum != 0:\n",
        "        sent_vec /= weight_sum\n",
        "    tfidf_sent_vectors.append(sent_vec)\n",
        "    row += 1"
      ],
      "execution_count": 0,
      "outputs": []
    },
    {
      "metadata": {
        "id": "__kWsD7cjF8h",
        "colab_type": "code",
        "colab": {
          "base_uri": "https://localhost:8080/",
          "height": 34
        },
        "outputId": "b4e3ec92-2ecf-44bf-9b6f-c48a0b899f6f"
      },
      "cell_type": "code",
      "source": [
        "tfidf_sent_vectors.shape"
      ],
      "execution_count": 62,
      "outputs": [
        {
          "output_type": "execute_result",
          "data": {
            "text/plain": [
              "(60000, 50)"
            ]
          },
          "metadata": {
            "tags": []
          },
          "execution_count": 62
        }
      ]
    },
    {
      "metadata": {
        "id": "vcYg-W0iWxG1",
        "colab_type": "code",
        "colab": {}
      },
      "cell_type": "code",
      "source": [
        "cv_tfidf_sent_vectors = []\n",
        "row=33000;\n",
        "for sent in list_of_sent[33000:37000]: \n",
        "    sent_vec = np.zeros(50)\n",
        "    weight_sum =0\n",
        "    for word in sent: \n",
        "        if word in w2v_words:\n",
        "            vec = w2v_model.wv[word]\n",
        "           \n",
        "            tf_idf = cv_final_tf_idf[row, tfidf_feat.index(word)]\n",
        "            sent_vec += (vec * tf_idf)\n",
        "            weight_sum += tf_idf\n",
        "  \n",
        "    if  row%500==0:\n",
        "      print(row)\n",
        "    if weight_sum != 0:\n",
        "        sent_vec /= weight_sum\n",
        "    cv_tfidf_sent_vectors.append(sent_vec)\n",
        "    row += 1"
      ],
      "execution_count": 0,
      "outputs": []
    },
    {
      "metadata": {
        "id": "kxrTVQlNZ06W",
        "colab_type": "code",
        "colab": {
          "base_uri": "https://localhost:8080/",
          "height": 782
        },
        "outputId": "644aebc7-0e36-4d9e-b013-de92bddea4a8"
      },
      "cell_type": "code",
      "source": [
        "for i in range(1,30,2):\n",
        "    # instantiate learning model (k = 30)\n",
        "    knn = KNeighborsClassifier(n_neighbors=i)\n",
        "\n",
        "    # fitting the model on crossvalidation train\n",
        "    knn.fit(tfidf_sent_vectors, y)\n",
        "\n",
        "    # predict the response on the crossvalidation train\n",
        "    cv_pred = knn.predict(cv_tfidf_sent_vectors)\n",
        "    # evaluate CV accuracy\n",
        "    acc = accuracy_score(y_cv, cv_pred, normalize=True) * float(100)\n",
        "    f1=f1_score(y_cv, cv_pred, labels=None, pos_label=1, average='micro', sample_weight=None)\n",
        "    \n",
        "    cm=confusion_matrix(y_cv, cv_pred)\n",
        "    print(cm)\n",
        "    print('CV accuracy for k = {} is {} and  f1-score = {}'.format(i,acc,f1))"
      ],
      "execution_count": 65,
      "outputs": [
        {
          "output_type": "stream",
          "text": [
            "[[  384  2378]\n",
            " [ 2380 14858]]\n",
            "CV accuracy for k = 1 is 76.21 and  f1-score = 0.7621\n",
            "[[  140  2622]\n",
            " [  931 16307]]\n",
            "CV accuracy for k = 3 is 82.235 and  f1-score = 0.8223499999999999\n",
            "[[   53  2709]\n",
            " [  432 16806]]\n",
            "CV accuracy for k = 5 is 84.295 and  f1-score = 0.84295\n",
            "[[   28  2734]\n",
            " [  203 17035]]\n",
            "CV accuracy for k = 7 is 85.315 and  f1-score = 0.85315\n",
            "[[   13  2749]\n",
            " [   78 17160]]\n",
            "CV accuracy for k = 9 is 85.86500000000001 and  f1-score = 0.85865\n",
            "[[    1  2761]\n",
            " [   26 17212]]\n",
            "CV accuracy for k = 11 is 86.065 and  f1-score = 0.86065\n",
            "[[    1  2761]\n",
            " [   16 17222]]\n",
            "CV accuracy for k = 13 is 86.115 and  f1-score = 0.86115\n",
            "[[    0  2762]\n",
            " [    8 17230]]\n",
            "CV accuracy for k = 15 is 86.15 and  f1-score = 0.8615\n",
            "[[    0  2762]\n",
            " [    1 17237]]\n",
            "CV accuracy for k = 17 is 86.185 and  f1-score = 0.86185\n",
            "[[    0  2762]\n",
            " [    0 17238]]\n",
            "CV accuracy for k = 19 is 86.19 and  f1-score = 0.8619\n",
            "[[    0  2762]\n",
            " [    1 17237]]\n",
            "CV accuracy for k = 21 is 86.185 and  f1-score = 0.86185\n",
            "[[    0  2762]\n",
            " [    0 17238]]\n",
            "CV accuracy for k = 23 is 86.19 and  f1-score = 0.8619\n",
            "[[    0  2762]\n",
            " [    0 17238]]\n",
            "CV accuracy for k = 25 is 86.19 and  f1-score = 0.8619\n",
            "[[    0  2762]\n",
            " [    0 17238]]\n",
            "CV accuracy for k = 27 is 86.19 and  f1-score = 0.8619\n",
            "[[    0  2762]\n",
            " [    0 17238]]\n",
            "CV accuracy for k = 29 is 86.19 and  f1-score = 0.8619\n"
          ],
          "name": "stdout"
        }
      ]
    },
    {
      "metadata": {
        "id": "Lb2Oni9naWI5",
        "colab_type": "code",
        "colab": {}
      },
      "cell_type": "code",
      "source": [
        "y_cv=np.array(cv_data['Score'])"
      ],
      "execution_count": 0,
      "outputs": []
    },
    {
      "metadata": {
        "id": "zNCC5prFeO_A",
        "colab_type": "code",
        "colab": {}
      },
      "cell_type": "code",
      "source": [
        "test_tfidf_sent_vectors = []\n",
        "row=33000;\n",
        "for sent in list_of_sent[33000:37000]: \n",
        "    sent_vec = np.zeros(50)\n",
        "    weight_sum =0\n",
        "    for word in sent: \n",
        "        if word in w2v_words:\n",
        "            vec = w2v_model.wv[word]\n",
        "           \n",
        "            tf_idf = test_final_tf_idf[row, tfidf_feat.index(word)]\n",
        "            sent_vec += (vec * tf_idf)\n",
        "            weight_sum += tf_idf\n",
        "  \n",
        "    if  row%500==0:\n",
        "      print(row)\n",
        "    if weight_sum != 0:\n",
        "        sent_vec /= weight_sum\n",
        "    test_tfidf_sent_vectors.append(sent_vec)\n",
        "    row += 1"
      ],
      "execution_count": 0,
      "outputs": []
    },
    {
      "metadata": {
        "id": "jZp1dBg5cs5L",
        "colab_type": "code",
        "colab": {}
      },
      "cell_type": "code",
      "source": [
        "test_tfidf_sent_vectors1=test_tfidf_sent_vectors[0:5000]\n",
        "test_tfidf_sent_vectors2=test_tfidf_sent_vectors[5000:10000]\n",
        "test_tfidf_sent_vectors3=test_tfidf_sent_vectors[10000:15000]\n",
        "test_tfidf_sent_vectors4=test_tfidf_sent_vectors[15000:20000]\n",
        "test_tfidf_sent_vectors_batch=[test_tfidf_sent_vectors1,test_tfidf_sent_vectors2,test_tfidf_sent_vectors3,test_tfidf_sent_vectors4]"
      ],
      "execution_count": 0,
      "outputs": []
    },
    {
      "metadata": {
        "id": "5cuRdFlOdRIt",
        "colab_type": "code",
        "colab": {
          "base_uri": "https://localhost:8080/",
          "height": 367
        },
        "outputId": "3c054c0c-454c-4ea1-cb94-f894133d11c3"
      },
      "cell_type": "code",
      "source": [
        "\n",
        "algorithms=['brute','kd_tree']\n",
        "for alg in algorithms:\n",
        "    knn = KNeighborsClassifier(n_neighbors=3,algorithm=alg)\n",
        "    knn.fit(tfidf_sent_vectors, y)\n",
        "    pred=list()\n",
        "    for test_batch in test_tfidf_sent_vectors_batch:      \n",
        "      batch_pred = knn.predict(test_batch)\n",
        "      pred.append(batch_pred)\n",
        "    pred=np.array(pred)\n",
        "    pred=pred.flatten()\n",
        "    acc = accuracy_score(y_test, pred, normalize=True) * float(100)\n",
        "    f1=f1_score(y_test, pred, labels=None, pos_label=1, average='micro', sample_weight=None)\n",
        "    print('Test accuracy for algorithm - {} and  k = 3 is {} and f1-score is {}' .format(alg,acc,f1))\n",
        "    cm=confusion_matrix(y_test, pred)\n",
        "    print(cm)\n",
        "    sns.heatmap(cm,cmap='coolwarm',annot=True)\n",
        "    "
      ],
      "execution_count": 69,
      "outputs": [
        {
          "output_type": "stream",
          "text": [
            "Test accuracy for algorithm - brute and  k = 3 is 79.815 and f1-score is 0.79815\n",
            "[[  229  2939]\n",
            " [ 1098 15734]]\n",
            "Test accuracy for algorithm - kd_tree and  k = 3 is 79.815 and f1-score is 0.79815\n",
            "[[  229  2939]\n",
            " [ 1098 15734]]\n"
          ],
          "name": "stdout"
        },
        {
          "output_type": "display_data",
          "data": {
            "image/png": "[encoded data removed]",
            "text/plain": [
              "<matplotlib.figure.Figure at 0x7fa467c5c438>"
            ]
          },
          "metadata": {
            "tags": []
          }
        }
      ]
    },
    {
      "metadata": {
        "id": "U3oKsFqJcdUK",
        "colab_type": "text"
      },
      "cell_type": "markdown",
      "source": [
        "*KNN is not a best algorithm for this data because the classification is more biased towars the Positive class as k value increases KNN it becomes more biased towards positive classes *"
      ]
    },
    {
      "metadata": {
        "id": "qzlpex9gcR-I",
        "colab_type": "text"
      },
      "cell_type": "markdown",
      "source": [
        "# Conclusion"
      ]
    },
    {
      "metadata": {
        "id": "B3tpC7qmcXsf",
        "colab_type": "code",
        "colab": {
          "base_uri": "https://localhost:8080/",
          "height": 34
        },
        "outputId": "c4a19f50-af8f-47b2-c509-5947fcd210a8"
      },
      "cell_type": "code",
      "source": [
        "!pip install prettytable\n"
      ],
      "execution_count": 71,
      "outputs": [
        {
          "output_type": "stream",
          "text": [
            "Requirement already satisfied: prettytable in /usr/local/lib/python3.6/dist-packages (0.7.2)\n"
          ],
          "name": "stdout"
        }
      ]
    },
    {
      "metadata": {
        "id": "khWl40eveT0K",
        "colab_type": "code",
        "colab": {}
      },
      "cell_type": "code",
      "source": [
        "from prettytable import PrettyTable"
      ],
      "execution_count": 0,
      "outputs": []
    },
    {
      "metadata": {
        "id": "eEqbhZ6IcU1a",
        "colab_type": "code",
        "colab": {
          "base_uri": "https://localhost:8080/",
          "height": 153
        },
        "outputId": "3ff274e1-2f27-404f-b383-6de9b7047054"
      },
      "cell_type": "code",
      "source": [
        "x = PrettyTable()\n",
        "\n",
        "x.field_names = [\"Model\", \"Best_K\", \"Train Error\", \"Test Error\"]\n",
        "\n",
        "x.add_row([\"Bag of words\", 3, 85.6, 83.7])\n",
        "x.add_row([\"Tf-IDF\", 1, 83.995, 86.65])\n",
        "x.add_row([\"AVG Word 2 Vec\", 3, 87.19, 86.5])\n",
        "x.add_row([\"Tf-IDF Word 2 Vec\", 3, 82.235, 79.81])\n",
        "print(x)"
      ],
      "execution_count": 79,
      "outputs": [
        {
          "output_type": "stream",
          "text": [
            "+-------------------+--------+-------------+------------+\n",
            "|       Model       | Best_K | Train Error | Test Error |\n",
            "+-------------------+--------+-------------+------------+\n",
            "|    Bag of words   |   3    |     85.6    |    83.7    |\n",
            "|       Tf-IDF      |   1    |    83.995   |   86.65    |\n",
            "|   AVG Word 2 Vec  |   3    |    87.19    |    86.5    |\n",
            "| Tf-IDF Word 2 Vec |   3    |    82.235   |   79.81    |\n",
            "+-------------------+--------+-------------+------------+\n"
          ],
          "name": "stdout"
        }
      ]
    }
  ]
}